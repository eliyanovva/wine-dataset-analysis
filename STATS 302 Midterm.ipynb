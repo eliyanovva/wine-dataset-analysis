{
 "cells": [
  {
   "cell_type": "markdown",
   "metadata": {},
   "source": [
    "# STATS 302 Midterm Project\n",
    "## Luka Mdivani, Pierre Nanquette, Teodora Petkova"
   ]
  },
  {
   "cell_type": "markdown",
   "metadata": {},
   "source": [
    "We are working on the wine quality dataset found on the following link: https://www.kaggle.com/uciml/red-wine-quality-cortez-et-al-2009<br>\n",
    "\n",
    "In our work we are doing explaratory analysis, which shows that... ELABORATE HERE.<br>\n"
   ]
  },
  {
   "cell_type": "markdown",
   "metadata": {},
   "source": [
    "Then, we preprocessed the data in the following way .... ELABORATE HERE <br>\n"
   ]
  },
  {
   "cell_type": "markdown",
   "metadata": {},
   "source": [
    "Finally, we solved two problems: \n",
    "\n",
    "1. A regression problem which tried to figure out the quality of the wine as a continuous variable based on the features at hand. <br>\n",
    "2. A binary classification problem which defined wine with quality above the 25th percentile as high quality wine, and below the 25th percentile as low quality wine. Then, based on the data, we try to predict if wine is high quality or low quality.\n"
   ]
  },
  {
   "cell_type": "markdown",
   "metadata": {},
   "source": [
    "Our analysis shows that .... ELABORATE HERE."
   ]
  },
  {
   "cell_type": "markdown",
   "metadata": {},
   "source": [
    "## Part 0: Python and Data Imports"
   ]
  },
  {
   "cell_type": "code",
   "execution_count": 101,
   "metadata": {},
   "outputs": [],
   "source": [
    "#All imports used in the notebook are in this cell:\n",
    "import numpy as np\n",
    "import pandas as pd\n",
    "import matplotlib.pyplot as plt\n",
    "from sklearn.model_selection import train_test_split\n",
    "from sklearn.ensemble import RandomForestClassifier\n",
    "from sklearn.ensemble import RandomForestRegressor\n",
    "from sklearn.preprocessing import StandardScaler\n",
    "from sklearn.decomposition import PCA\n",
    "from sklearn.pipeline import Pipeline\n",
    "import statsmodels.api as sm\n",
    "from sklearn.linear_model import LinearRegression\n",
    "from sklearn.linear_model import LogisticRegression"
   ]
  },
  {
   "cell_type": "code",
   "execution_count": 171,
   "metadata": {},
   "outputs": [],
   "source": [
    "# Data Import:\n",
    "df = pd.read_csv(\"winequality-red.csv\")\n",
    "y = df['quality']\n",
    "df.drop('quality', axis='columns', inplace=True)\n",
    "df['constant'] = [1]*1599\n",
    "df.drop(['citric acid', 'chlorides', 'fixed acidity'], axis='columns', inplace=True)\n"
   ]
  },
  {
   "cell_type": "markdown",
   "metadata": {},
   "source": [
    "## Part 1: Exploratory Analysis"
   ]
  },
  {
   "cell_type": "code",
   "execution_count": 172,
   "metadata": {},
   "outputs": [
    {
     "data": {
      "text/html": [
       "<div>\n",
       "<style scoped>\n",
       "    .dataframe tbody tr th:only-of-type {\n",
       "        vertical-align: middle;\n",
       "    }\n",
       "\n",
       "    .dataframe tbody tr th {\n",
       "        vertical-align: top;\n",
       "    }\n",
       "\n",
       "    .dataframe thead th {\n",
       "        text-align: right;\n",
       "    }\n",
       "</style>\n",
       "<table border=\"1\" class=\"dataframe\">\n",
       "  <thead>\n",
       "    <tr style=\"text-align: right;\">\n",
       "      <th></th>\n",
       "      <th>volatile acidity</th>\n",
       "      <th>residual sugar</th>\n",
       "      <th>free sulfur dioxide</th>\n",
       "      <th>total sulfur dioxide</th>\n",
       "      <th>density</th>\n",
       "      <th>pH</th>\n",
       "      <th>sulphates</th>\n",
       "      <th>alcohol</th>\n",
       "      <th>constant</th>\n",
       "    </tr>\n",
       "  </thead>\n",
       "  <tbody>\n",
       "    <tr>\n",
       "      <td>count</td>\n",
       "      <td>1599.000000</td>\n",
       "      <td>1599.000000</td>\n",
       "      <td>1599.000000</td>\n",
       "      <td>1599.000000</td>\n",
       "      <td>1599.000000</td>\n",
       "      <td>1599.000000</td>\n",
       "      <td>1599.000000</td>\n",
       "      <td>1599.000000</td>\n",
       "      <td>1599.0</td>\n",
       "    </tr>\n",
       "    <tr>\n",
       "      <td>mean</td>\n",
       "      <td>0.527821</td>\n",
       "      <td>2.538806</td>\n",
       "      <td>15.874922</td>\n",
       "      <td>46.467792</td>\n",
       "      <td>0.996747</td>\n",
       "      <td>3.311113</td>\n",
       "      <td>0.658149</td>\n",
       "      <td>10.422983</td>\n",
       "      <td>1.0</td>\n",
       "    </tr>\n",
       "    <tr>\n",
       "      <td>std</td>\n",
       "      <td>0.179060</td>\n",
       "      <td>1.409928</td>\n",
       "      <td>10.460157</td>\n",
       "      <td>32.895324</td>\n",
       "      <td>0.001887</td>\n",
       "      <td>0.154386</td>\n",
       "      <td>0.169507</td>\n",
       "      <td>1.065668</td>\n",
       "      <td>0.0</td>\n",
       "    </tr>\n",
       "    <tr>\n",
       "      <td>min</td>\n",
       "      <td>0.120000</td>\n",
       "      <td>0.900000</td>\n",
       "      <td>1.000000</td>\n",
       "      <td>6.000000</td>\n",
       "      <td>0.990070</td>\n",
       "      <td>2.740000</td>\n",
       "      <td>0.330000</td>\n",
       "      <td>8.400000</td>\n",
       "      <td>1.0</td>\n",
       "    </tr>\n",
       "    <tr>\n",
       "      <td>25%</td>\n",
       "      <td>0.390000</td>\n",
       "      <td>1.900000</td>\n",
       "      <td>7.000000</td>\n",
       "      <td>22.000000</td>\n",
       "      <td>0.995600</td>\n",
       "      <td>3.210000</td>\n",
       "      <td>0.550000</td>\n",
       "      <td>9.500000</td>\n",
       "      <td>1.0</td>\n",
       "    </tr>\n",
       "    <tr>\n",
       "      <td>50%</td>\n",
       "      <td>0.520000</td>\n",
       "      <td>2.200000</td>\n",
       "      <td>14.000000</td>\n",
       "      <td>38.000000</td>\n",
       "      <td>0.996750</td>\n",
       "      <td>3.310000</td>\n",
       "      <td>0.620000</td>\n",
       "      <td>10.200000</td>\n",
       "      <td>1.0</td>\n",
       "    </tr>\n",
       "    <tr>\n",
       "      <td>75%</td>\n",
       "      <td>0.640000</td>\n",
       "      <td>2.600000</td>\n",
       "      <td>21.000000</td>\n",
       "      <td>62.000000</td>\n",
       "      <td>0.997835</td>\n",
       "      <td>3.400000</td>\n",
       "      <td>0.730000</td>\n",
       "      <td>11.100000</td>\n",
       "      <td>1.0</td>\n",
       "    </tr>\n",
       "    <tr>\n",
       "      <td>max</td>\n",
       "      <td>1.580000</td>\n",
       "      <td>15.500000</td>\n",
       "      <td>72.000000</td>\n",
       "      <td>289.000000</td>\n",
       "      <td>1.003690</td>\n",
       "      <td>4.010000</td>\n",
       "      <td>2.000000</td>\n",
       "      <td>14.900000</td>\n",
       "      <td>1.0</td>\n",
       "    </tr>\n",
       "  </tbody>\n",
       "</table>\n",
       "</div>"
      ],
      "text/plain": [
       "       volatile acidity  residual sugar  free sulfur dioxide  \\\n",
       "count       1599.000000     1599.000000          1599.000000   \n",
       "mean           0.527821        2.538806            15.874922   \n",
       "std            0.179060        1.409928            10.460157   \n",
       "min            0.120000        0.900000             1.000000   \n",
       "25%            0.390000        1.900000             7.000000   \n",
       "50%            0.520000        2.200000            14.000000   \n",
       "75%            0.640000        2.600000            21.000000   \n",
       "max            1.580000       15.500000            72.000000   \n",
       "\n",
       "       total sulfur dioxide      density           pH    sulphates  \\\n",
       "count           1599.000000  1599.000000  1599.000000  1599.000000   \n",
       "mean              46.467792     0.996747     3.311113     0.658149   \n",
       "std               32.895324     0.001887     0.154386     0.169507   \n",
       "min                6.000000     0.990070     2.740000     0.330000   \n",
       "25%               22.000000     0.995600     3.210000     0.550000   \n",
       "50%               38.000000     0.996750     3.310000     0.620000   \n",
       "75%               62.000000     0.997835     3.400000     0.730000   \n",
       "max              289.000000     1.003690     4.010000     2.000000   \n",
       "\n",
       "           alcohol  constant  \n",
       "count  1599.000000    1599.0  \n",
       "mean     10.422983       1.0  \n",
       "std       1.065668       0.0  \n",
       "min       8.400000       1.0  \n",
       "25%       9.500000       1.0  \n",
       "50%      10.200000       1.0  \n",
       "75%      11.100000       1.0  \n",
       "max      14.900000       1.0  "
      ]
     },
     "execution_count": 172,
     "metadata": {},
     "output_type": "execute_result"
    }
   ],
   "source": [
    "df.describe()"
   ]
  },
  {
   "cell_type": "code",
   "execution_count": 173,
   "metadata": {},
   "outputs": [
    {
     "data": {
      "image/png": "[encoded data removed]",
      "text/plain": [
       "<Figure size 432x288 with 9 Axes>"
      ]
     },
     "metadata": {
      "needs_background": "light"
     },
     "output_type": "display_data"
    }
   ],
   "source": [
    "df.hist();"
   ]
  },
  {
   "cell_type": "code",
   "execution_count": 174,
   "metadata": {},
   "outputs": [
    {
     "data": {
      "text/plain": [
       "[Text(0, 0, 'volatile acidity'),\n",
       " Text(0, 0, 'residual sugar'),\n",
       " Text(0, 0, 'free sulfur dioxide'),\n",
       " Text(0, 0, 'total sulfur dioxide'),\n",
       " Text(0, 0, 'density'),\n",
       " Text(0, 0, 'pH'),\n",
       " Text(0, 0, 'sulphates'),\n",
       " Text(0, 0, 'alcohol'),\n",
       " Text(0, 0, 'constant')]"
      ]
     },
     "execution_count": 174,
     "metadata": {},
     "output_type": "execute_result"
    },
    {
     "data": {
      "image/png": "[encoded data removed]",
      "text/plain": [
       "<Figure size 720x720 with 1 Axes>"
      ]
     },
     "metadata": {
      "needs_background": "light"
     },
     "output_type": "display_data"
    }
   ],
   "source": [
    "correlation_matrix = df.corr()\n",
    "fig, ax = plt.subplots()\n",
    "fig.set_size_inches(10 ,10)\n",
    "ax.imshow(correlation_matrix)\n",
    "features = df.columns;\n",
    "ax.set_xticks(np.arange(len(features)))\n",
    "ax.set_yticks(np.arange(len(features)))\n",
    "ax.set_xticklabels(features)\n",
    "ax.set_yticklabels(features)\n",
    "\n"
   ]
  },
  {
   "cell_type": "markdown",
   "metadata": {},
   "source": [
    "There are a few highly correlated variables, like pH and fixed acidity, citric acid and volatile acidity, citric acid and pH. We might consider generating an extra variable which accounts for their correlation."
   ]
  },
  {
   "cell_type": "code",
   "execution_count": 175,
   "metadata": {},
   "outputs": [],
   "source": [
    "Xtrain,Xtest,ytrain,ytest = train_test_split(df, y, random_state =0)"
   ]
  },
  {
   "cell_type": "code",
   "execution_count": 176,
   "metadata": {},
   "outputs": [
    {
     "data": {
      "text/plain": [
       "Text(0, 0.5, 'cumulative explained variance')"
      ]
     },
     "execution_count": 176,
     "metadata": {},
     "output_type": "execute_result"
    },
    {
     "data": {
      "image/png": "[encoded data removed]",
      "text/plain": [
       "<Figure size 432x288 with 1 Axes>"
      ]
     },
     "metadata": {
      "needs_background": "light"
     },
     "output_type": "display_data"
    }
   ],
   "source": [
    "pipeline = Pipeline([('scaling', StandardScaler()), ('pca', PCA())])\n",
    "pca = pipeline.fit_transform(Xtrain) \n",
    "explained_variance = np.var(pca, axis=0)\n",
    "explained_variance_ratio = explained_variance / np.sum(explained_variance)\n",
    "plt.plot(np.cumsum(explained_variance_ratio))\n",
    "plt.xlabel('# components')\n",
    "plt.ylabel('cumulative explained variance')"
   ]
  },
  {
   "cell_type": "markdown",
   "metadata": {},
   "source": [
    "The cumulative explained variance shows that we might as well use all 10 available dimensions."
   ]
  },
  {
   "cell_type": "code",
   "execution_count": 177,
   "metadata": {},
   "outputs": [
    {
     "name": "stdout",
     "output_type": "stream",
     "text": [
      "VIF of volatile acidity: 1.2021252501411348\n",
      "VIF of residual sugar: 1.3613599419824793\n",
      "VIF of free sulfur dioxide: 1.9041776920691684\n",
      "VIF of total sulfur dioxide: 1.9773918819884768\n",
      "VIF of density: 1.90079649604258\n",
      "VIF of pH: 1.2767091768478436\n",
      "VIF of sulphates: 1.1666465157323518\n",
      "VIF of alcohol: 1.6881876997338292\n",
      "VIF of constant: 546354.1832644132\n"
     ]
    },
    {
     "ename": "IndexError",
     "evalue": "index 9 is out of bounds for axis 0 with size 9",
     "output_type": "error",
     "traceback": [
      "\u001b[1;31m---------------------------------------------------------------------------\u001b[0m",
      "\u001b[1;31mIndexError\u001b[0m                                Traceback (most recent call last)",
      "\u001b[1;32m<ipython-input-177-a9b59fd37033>\u001b[0m in \u001b[0;36m<module>\u001b[1;34m\u001b[0m\n\u001b[0;32m      3\u001b[0m \u001b[0mvif\u001b[0m \u001b[1;33m=\u001b[0m \u001b[1;33m[\u001b[0m\u001b[0mvariance_inflation_factor\u001b[0m\u001b[1;33m(\u001b[0m\u001b[0mdata\u001b[0m\u001b[1;33m,\u001b[0m \u001b[0mi\u001b[0m\u001b[1;33m)\u001b[0m \u001b[1;32mfor\u001b[0m \u001b[0mi\u001b[0m \u001b[1;32min\u001b[0m \u001b[0mrange\u001b[0m\u001b[1;33m(\u001b[0m\u001b[0mdata\u001b[0m\u001b[1;33m.\u001b[0m\u001b[0mshape\u001b[0m\u001b[1;33m[\u001b[0m\u001b[1;36m1\u001b[0m\u001b[1;33m]\u001b[0m\u001b[1;33m)\u001b[0m\u001b[1;33m]\u001b[0m\u001b[1;33m\u001b[0m\u001b[1;33m\u001b[0m\u001b[0m\n\u001b[0;32m      4\u001b[0m \u001b[1;32mfor\u001b[0m \u001b[0mi\u001b[0m \u001b[1;32min\u001b[0m \u001b[0mrange\u001b[0m\u001b[1;33m(\u001b[0m\u001b[1;36m12\u001b[0m\u001b[1;33m)\u001b[0m\u001b[1;33m:\u001b[0m\u001b[1;33m\u001b[0m\u001b[1;33m\u001b[0m\u001b[0m\n\u001b[1;32m----> 5\u001b[1;33m     \u001b[0mprint\u001b[0m\u001b[1;33m(\u001b[0m\u001b[1;34m\"VIF of \"\u001b[0m \u001b[1;33m+\u001b[0m \u001b[0mdf\u001b[0m\u001b[1;33m.\u001b[0m\u001b[0mcolumns\u001b[0m\u001b[1;33m[\u001b[0m\u001b[0mi\u001b[0m\u001b[1;33m]\u001b[0m \u001b[1;33m+\u001b[0m \u001b[1;34m\": \"\u001b[0m \u001b[1;33m+\u001b[0m \u001b[0mstr\u001b[0m\u001b[1;33m(\u001b[0m\u001b[0mvif\u001b[0m\u001b[1;33m[\u001b[0m\u001b[0mi\u001b[0m\u001b[1;33m]\u001b[0m\u001b[1;33m)\u001b[0m\u001b[1;33m)\u001b[0m\u001b[1;33m\u001b[0m\u001b[1;33m\u001b[0m\u001b[0m\n\u001b[0m",
      "\u001b[1;32m~\\Anaconda3\\lib\\site-packages\\pandas\\core\\indexes\\base.py\u001b[0m in \u001b[0;36m__getitem__\u001b[1;34m(self, key)\u001b[0m\n\u001b[0;32m   4278\u001b[0m         \u001b[1;32mif\u001b[0m \u001b[0mis_scalar\u001b[0m\u001b[1;33m(\u001b[0m\u001b[0mkey\u001b[0m\u001b[1;33m)\u001b[0m\u001b[1;33m:\u001b[0m\u001b[1;33m\u001b[0m\u001b[1;33m\u001b[0m\u001b[0m\n\u001b[0;32m   4279\u001b[0m             \u001b[0mkey\u001b[0m \u001b[1;33m=\u001b[0m \u001b[0mcom\u001b[0m\u001b[1;33m.\u001b[0m\u001b[0mcast_scalar_indexer\u001b[0m\u001b[1;33m(\u001b[0m\u001b[0mkey\u001b[0m\u001b[1;33m)\u001b[0m\u001b[1;33m\u001b[0m\u001b[1;33m\u001b[0m\u001b[0m\n\u001b[1;32m-> 4280\u001b[1;33m             \u001b[1;32mreturn\u001b[0m \u001b[0mgetitem\u001b[0m\u001b[1;33m(\u001b[0m\u001b[0mkey\u001b[0m\u001b[1;33m)\u001b[0m\u001b[1;33m\u001b[0m\u001b[1;33m\u001b[0m\u001b[0m\n\u001b[0m\u001b[0;32m   4281\u001b[0m \u001b[1;33m\u001b[0m\u001b[0m\n\u001b[0;32m   4282\u001b[0m         \u001b[1;32mif\u001b[0m \u001b[0misinstance\u001b[0m\u001b[1;33m(\u001b[0m\u001b[0mkey\u001b[0m\u001b[1;33m,\u001b[0m \u001b[0mslice\u001b[0m\u001b[1;33m)\u001b[0m\u001b[1;33m:\u001b[0m\u001b[1;33m\u001b[0m\u001b[1;33m\u001b[0m\u001b[0m\n",
      "\u001b[1;31mIndexError\u001b[0m: index 9 is out of bounds for axis 0 with size 9"
     ]
    }
   ],
   "source": [
    "from statsmodels.stats.outliers_influence import variance_inflation_factor\n",
    "data = df.to_numpy()\n",
    "vif = [variance_inflation_factor(data, i) for i in range(data.shape[1])]\n",
    "for i in range(12):\n",
    "    print(\"VIF of \" + df.columns[i] + \": \" + str(vif[i]))"
   ]
  },
  {
   "cell_type": "code",
   "execution_count": 141,
   "metadata": {},
   "outputs": [
    {
     "name": "stdout",
     "output_type": "stream",
     "text": [
      "VIF of fixed acidity: 2.9754911529611663\n",
      "VIF of volatile acidity: 1.7598792477622955\n",
      "VIF of citric acid: 3.127790937194912\n",
      "VIF of residual sugar: 1.0994328341913613\n",
      "VIF of chlorides: 1.4688926964199256\n",
      "VIF of free sulfur dioxide: 1.9486906215575914\n",
      "VIF of total sulfur dioxide: 2.1732399372507225\n",
      "VIF of density: 2.2394117246851617\n",
      "VIF of pH: 1.3415238909219986\n",
      "VIF of sulphates: 1.2996028557363482\n",
      "VIF of alcohol: 1429.2008467620733\n"
     ]
    }
   ],
   "source": [
    "df1 = df.drop('density', axis='columns')\n",
    "data = df1.to_numpy()\n",
    "vif = [variance_inflation_factor(data, i) for i in range(data.shape[1])]\n",
    "for i in range(11):\n",
    "    print(\"VIF of \" + df.columns[i] + \": \" + str(vif[i]))"
   ]
  },
  {
   "cell_type": "code",
   "execution_count": 178,
   "metadata": {
    "scrolled": true
   },
   "outputs": [
    {
     "name": "stdout",
     "output_type": "stream",
     "text": [
      "                            OLS Regression Results                            \n",
      "==============================================================================\n",
      "Dep. Variable:                quality   R-squared:                       0.349\n",
      "Model:                            OLS   Adj. R-squared:                  0.346\n",
      "Method:                 Least Squares   F-statistic:                     106.6\n",
      "Date:                Thu, 25 Nov 2021   Prob (F-statistic):          1.82e-142\n",
      "Time:                        20:36:03   Log-Likelihood:                -1583.2\n",
      "No. Observations:                1599   AIC:                             3184.\n",
      "Df Residuals:                    1590   BIC:                             3233.\n",
      "Df Model:                           8                                         \n",
      "Covariance Type:            nonrobust                                         \n",
      "========================================================================================\n",
      "                           coef    std err          t      P>|t|      [0.025      0.975]\n",
      "----------------------------------------------------------------------------------------\n",
      "volatile acidity        -1.1067      0.100    -11.062      0.000      -1.303      -0.910\n",
      "residual sugar           0.0058      0.014      0.427      0.669      -0.021       0.032\n",
      "free sulfur dioxide      0.0048      0.002      2.226      0.026       0.001       0.009\n",
      "total sulfur dioxide    -0.0034      0.001     -4.846      0.000      -0.005      -0.002\n",
      "density                 -3.7265     11.935     -0.312      0.755     -27.137      19.684\n",
      "pH                      -0.3674      0.120     -3.073      0.002      -0.602      -0.133\n",
      "sulphates                0.6677      0.104      6.413      0.000       0.463       0.872\n",
      "alcohol                  0.3024      0.020     15.181      0.000       0.263       0.341\n",
      "constant                 7.6260     12.073      0.632      0.528     -16.055      31.307\n",
      "==============================================================================\n",
      "Omnibus:                       29.417   Durbin-Watson:                   1.757\n",
      "Prob(Omnibus):                  0.000   Jarque-Bera (JB):               45.955\n",
      "Skew:                          -0.166   Prob(JB):                     1.05e-10\n",
      "Kurtosis:                       3.761   Cond. No.                     6.26e+04\n",
      "==============================================================================\n",
      "\n",
      "Warnings:\n",
      "[1] Standard Errors assume that the covariance matrix of the errors is correctly specified.\n",
      "[2] The condition number is large, 6.26e+04. This might indicate that there are\n",
      "strong multicollinearity or other numerical problems.\n"
     ]
    }
   ],
   "source": [
    "# linear regression - use to compare other models\n",
    "\n",
    "res = sm.OLS(y,df, axis='columns').fit()\n",
    "print(res.summary())"
   ]
  },
  {
   "cell_type": "markdown",
   "metadata": {},
   "source": [
    "## Part 2: Data Preprocessing"
   ]
  },
  {
   "cell_type": "markdown",
   "metadata": {},
   "source": [
    "## Part 3: Models"
   ]
  },
  {
   "cell_type": "code",
   "execution_count": 179,
   "metadata": {},
   "outputs": [
    {
     "name": "stdout",
     "output_type": "stream",
     "text": [
      "0.3324238618164419\n"
     ]
    }
   ],
   "source": [
    "regression = LinearRegression().fit(Xtrain, ytrain)\n",
    "print(regression.score(Xtest, ytest))"
   ]
  },
  {
   "cell_type": "code",
   "execution_count": 181,
   "metadata": {},
   "outputs": [
    {
     "name": "stdout",
     "output_type": "stream",
     "text": [
      "0.4228503359204835\n"
     ]
    }
   ],
   "source": [
    "RandomForest = RandomForestRegressor(n_estimators=1000).fit(Xtrain, ytrain)\n",
    "print(RandomForest.score(Xtest,ytest))"
   ]
  },
  {
   "cell_type": "code",
   "execution_count": 183,
   "metadata": {},
   "outputs": [],
   "source": [
    "df['interaction_term_ph_density'] = -df['pH']*df['density']\n",
    "#df['interaction_term_c_acid_v_acid'] = df['citric acid']*df['volatile acidity']\n",
    "Xtrain,Xtest,ytrain,ytest = train_test_split(df, y, random_state =0)"
   ]
  },
  {
   "cell_type": "code",
   "execution_count": 184,
   "metadata": {},
   "outputs": [
    {
     "name": "stdout",
     "output_type": "stream",
     "text": [
      "0.33452052739258886\n"
     ]
    }
   ],
   "source": [
    "regression = LinearRegression().fit(Xtrain, ytrain)\n",
    "print(regression.score(Xtest, ytest))"
   ]
  },
  {
   "cell_type": "code",
   "execution_count": 185,
   "metadata": {},
   "outputs": [
    {
     "name": "stdout",
     "output_type": "stream",
     "text": [
      "0.4280755161517932\n"
     ]
    }
   ],
   "source": [
    "RandomForest = RandomForestRegressor(n_estimators=500).fit(Xtrain, ytrain)\n",
    "print(RandomForest.score(Xtest,ytest))"
   ]
  },
  {
   "cell_type": "markdown",
   "metadata": {},
   "source": [
    "Baseline accuracy achieved when the data was not preprocessed at all:<br> \n",
    "Linear Regression: 0.34542438124562846<br>\n",
    "Random Forest: 0.4326893067869231<br>\n",
    "\n",
    "The accuracy of the models did not change much when the interaction terms above were added. This might be because.... <br>\n",
    "\n",
    "When we tried removing thw following columns from the data: 'citric acid', 'chlorides', 'fixed acidity', the accuracy did not change much, it even declined a little bit. We remove them, because they were highly correlated with the other variables and by removing them we lowered the VIF of all other variables to values in $[0, 3]$. <br>\n",
    "Linear Regression: 0.33452052739258886<br>\n",
    "Random Forest: 0.4280755161517932 <br>"
   ]
  },
  {
   "cell_type": "markdown",
   "metadata": {},
   "source": [
    "### Binary Classification Problem\n",
    "The range of the quality of the wine is $(3, 8)$. Wine with quality below $5.0$ is considered bad quality wine. We devised a binary classification model which will classify the wine as good and bad quality."
   ]
  },
  {
   "cell_type": "code",
   "execution_count": 131,
   "metadata": {},
   "outputs": [],
   "source": [
    "# wine with quality below 5.0 is bad quality wine\n",
    "classification_y = np.zeros(len(y))\n",
    "for i in range(len(y)):\n",
    "    classification_y[i] = y[i]>=5.0\n",
    "    \n",
    "# New train-test splitting:\n",
    "Xtrain,Xtest,ytrain,ytest = train_test_split(df, classification_y, random_state =0)\n"
   ]
  },
  {
   "cell_type": "code",
   "execution_count": 132,
   "metadata": {},
   "outputs": [
    {
     "name": "stdout",
     "output_type": "stream",
     "text": [
      "0.96\n"
     ]
    },
    {
     "name": "stderr",
     "output_type": "stream",
     "text": [
      "C:\\Users\\Teodora\\Anaconda3\\lib\\site-packages\\sklearn\\linear_model\\logistic.py:432: FutureWarning: Default solver will be changed to 'lbfgs' in 0.22. Specify a solver to silence this warning.\n",
      "  FutureWarning)\n"
     ]
    }
   ],
   "source": [
    "model = LogisticRegression()\n",
    "model.fit(Xtrain, ytrain)\n",
    "print(model.score(Xtest, ytest))"
   ]
  },
  {
   "cell_type": "code",
   "execution_count": 133,
   "metadata": {},
   "outputs": [
    {
     "name": "stdout",
     "output_type": "stream",
     "text": [
      "0.9525\n"
     ]
    },
    {
     "name": "stderr",
     "output_type": "stream",
     "text": [
      "C:\\Users\\Teodora\\Anaconda3\\lib\\site-packages\\sklearn\\ensemble\\forest.py:245: FutureWarning: The default value of n_estimators will change from 10 in version 0.20 to 100 in 0.22.\n",
      "  \"10 in version 0.20 to 100 in 0.22.\", FutureWarning)\n"
     ]
    }
   ],
   "source": [
    "model = RandomForestClassifier()\n",
    "model.fit(Xtrain, ytrain)\n",
    "print(model.score(Xtest, ytest))"
   ]
  },
  {
   "cell_type": "markdown",
   "metadata": {},
   "source": [
    "Baseline accuracy achieved when the data was not preprocessed at all:<br> \n",
    "Logistic Regression: 0.96<br>\n",
    "Random Forest: 0.9525<br>\n"
   ]
  }
 ],
 "metadata": {
  "kernelspec": {
   "display_name": "Python 3",
   "language": "python",
   "name": "python3"
  },
  "language_info": {
   "codemirror_mode": {
    "name": "ipython",
    "version": 3
   },
   "file_extension": ".py",
   "mimetype": "text/x-python",
   "name": "python",
   "nbconvert_exporter": "python",
   "pygments_lexer": "ipython3",
   "version": "3.7.4"
  }
 },
 "nbformat": 4,
 "nbformat_minor": 2
}
