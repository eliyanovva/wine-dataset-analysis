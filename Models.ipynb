{
 "cells": [
  {
   "cell_type": "markdown",
   "metadata": {},
   "source": [
    "# STATS 302 Midterm Project\n",
    "## Luka Mdivani, Pierre Nanquette, Teodora Petkova\n",
    "\n",
    "We are working on the wine quality dataset found on the following link: https://www.kaggle.com/uciml/red-wine-quality-cortez-et-al-2009<br>\n",
    "\n",
    "Finally, we solved three problems: \n",
    "\n",
    "1. A regression problem which tried to figure out the quality of the wine as a continuous variable based on the features at hand. <br>\n",
    "2. A binary classification problem which defined wine with quality above 7 as high quality wine, and below that as low quality wine. Then, based on the data, we try to predict if wine is high quality or low quality.\n",
    "3. A classification problem which tries to predict the quality of the wine out of 6 possible classes.\n"
   ]
  },
  {
   "cell_type": "markdown",
   "metadata": {},
   "source": [
    "## Part 0: Python and Data Imports"
   ]
  },
  {
   "cell_type": "code",
   "execution_count": 100,
   "id": "0dabcf69",
   "metadata": {},
   "outputs": [],
   "source": [
    "#All imports used in the notebook are in this cell:\n",
    "\n",
    "import numpy as np\n",
    "import pandas as pd\n",
    "import matplotlib.pyplot as plt\n",
    "from sklearn.model_selection import train_test_split\n",
    "from sklearn.ensemble import RandomForestClassifier\n",
    "from sklearn.preprocessing import StandardScaler\n",
    "from sklearn.decomposition import PCA\n",
    "from sklearn.pipeline import Pipeline\n",
    "import statsmodels.api as sm\n",
    "from sklearn import metrics\n",
    "from sklearn.linear_model import LinearRegression\n",
    "from sklearn.linear_model import LogisticRegression\n",
    "from statsmodels.stats.outliers_influence import variance_inflation_factor\n",
    "from imblearn.over_sampling import RandomOverSampler\n",
    "from sklearn import svm\n",
    "from sklearn.metrics import r2_score\n",
    "\n",
    "import math\n"
   ]
  },
  {
   "cell_type": "code",
   "execution_count": 101,
   "metadata": {},
   "outputs": [],
   "source": [
    "# Data Import\n",
    "\n",
    "# Load data in a dataframe:\n",
    "df = pd.read_csv(\"winequality-red.csv\")\n",
    "y = df['quality']\n",
    "\n",
    "# Drop the y-column\n",
    "df.drop('quality', axis='columns', inplace=True)"
   ]
  },
  {
   "cell_type": "markdown",
   "metadata": {},
   "source": [
    "## Part 1: Exploratory Analysis"
   ]
  },
  {
   "cell_type": "code",
   "execution_count": 102,
   "metadata": {},
   "outputs": [
    {
     "data": {
      "text/html": [
       "<div>\n",
       "<style scoped>\n",
       "    .dataframe tbody tr th:only-of-type {\n",
       "        vertical-align: middle;\n",
       "    }\n",
       "\n",
       "    .dataframe tbody tr th {\n",
       "        vertical-align: top;\n",
       "    }\n",
       "\n",
       "    .dataframe thead th {\n",
       "        text-align: right;\n",
       "    }\n",
       "</style>\n",
       "<table border=\"1\" class=\"dataframe\">\n",
       "  <thead>\n",
       "    <tr style=\"text-align: right;\">\n",
       "      <th></th>\n",
       "      <th>fixed acidity</th>\n",
       "      <th>volatile acidity</th>\n",
       "      <th>citric acid</th>\n",
       "      <th>residual sugar</th>\n",
       "      <th>chlorides</th>\n",
       "      <th>free sulfur dioxide</th>\n",
       "      <th>total sulfur dioxide</th>\n",
       "      <th>density</th>\n",
       "      <th>pH</th>\n",
       "      <th>sulphates</th>\n",
       "      <th>alcohol</th>\n",
       "    </tr>\n",
       "  </thead>\n",
       "  <tbody>\n",
       "    <tr>\n",
       "      <th>count</th>\n",
       "      <td>1599.000000</td>\n",
       "      <td>1599.000000</td>\n",
       "      <td>1599.000000</td>\n",
       "      <td>1599.000000</td>\n",
       "      <td>1599.000000</td>\n",
       "      <td>1599.000000</td>\n",
       "      <td>1599.000000</td>\n",
       "      <td>1599.000000</td>\n",
       "      <td>1599.000000</td>\n",
       "      <td>1599.000000</td>\n",
       "      <td>1599.000000</td>\n",
       "    </tr>\n",
       "    <tr>\n",
       "      <th>mean</th>\n",
       "      <td>8.319637</td>\n",
       "      <td>0.527821</td>\n",
       "      <td>0.270976</td>\n",
       "      <td>2.538806</td>\n",
       "      <td>0.087467</td>\n",
       "      <td>15.874922</td>\n",
       "      <td>46.467792</td>\n",
       "      <td>0.996747</td>\n",
       "      <td>3.311113</td>\n",
       "      <td>0.658149</td>\n",
       "      <td>10.422983</td>\n",
       "    </tr>\n",
       "    <tr>\n",
       "      <th>std</th>\n",
       "      <td>1.741096</td>\n",
       "      <td>0.179060</td>\n",
       "      <td>0.194801</td>\n",
       "      <td>1.409928</td>\n",
       "      <td>0.047065</td>\n",
       "      <td>10.460157</td>\n",
       "      <td>32.895324</td>\n",
       "      <td>0.001887</td>\n",
       "      <td>0.154386</td>\n",
       "      <td>0.169507</td>\n",
       "      <td>1.065668</td>\n",
       "    </tr>\n",
       "    <tr>\n",
       "      <th>min</th>\n",
       "      <td>4.600000</td>\n",
       "      <td>0.120000</td>\n",
       "      <td>0.000000</td>\n",
       "      <td>0.900000</td>\n",
       "      <td>0.012000</td>\n",
       "      <td>1.000000</td>\n",
       "      <td>6.000000</td>\n",
       "      <td>0.990070</td>\n",
       "      <td>2.740000</td>\n",
       "      <td>0.330000</td>\n",
       "      <td>8.400000</td>\n",
       "    </tr>\n",
       "    <tr>\n",
       "      <th>25%</th>\n",
       "      <td>7.100000</td>\n",
       "      <td>0.390000</td>\n",
       "      <td>0.090000</td>\n",
       "      <td>1.900000</td>\n",
       "      <td>0.070000</td>\n",
       "      <td>7.000000</td>\n",
       "      <td>22.000000</td>\n",
       "      <td>0.995600</td>\n",
       "      <td>3.210000</td>\n",
       "      <td>0.550000</td>\n",
       "      <td>9.500000</td>\n",
       "    </tr>\n",
       "    <tr>\n",
       "      <th>50%</th>\n",
       "      <td>7.900000</td>\n",
       "      <td>0.520000</td>\n",
       "      <td>0.260000</td>\n",
       "      <td>2.200000</td>\n",
       "      <td>0.079000</td>\n",
       "      <td>14.000000</td>\n",
       "      <td>38.000000</td>\n",
       "      <td>0.996750</td>\n",
       "      <td>3.310000</td>\n",
       "      <td>0.620000</td>\n",
       "      <td>10.200000</td>\n",
       "    </tr>\n",
       "    <tr>\n",
       "      <th>75%</th>\n",
       "      <td>9.200000</td>\n",
       "      <td>0.640000</td>\n",
       "      <td>0.420000</td>\n",
       "      <td>2.600000</td>\n",
       "      <td>0.090000</td>\n",
       "      <td>21.000000</td>\n",
       "      <td>62.000000</td>\n",
       "      <td>0.997835</td>\n",
       "      <td>3.400000</td>\n",
       "      <td>0.730000</td>\n",
       "      <td>11.100000</td>\n",
       "    </tr>\n",
       "    <tr>\n",
       "      <th>max</th>\n",
       "      <td>15.900000</td>\n",
       "      <td>1.580000</td>\n",
       "      <td>1.000000</td>\n",
       "      <td>15.500000</td>\n",
       "      <td>0.611000</td>\n",
       "      <td>72.000000</td>\n",
       "      <td>289.000000</td>\n",
       "      <td>1.003690</td>\n",
       "      <td>4.010000</td>\n",
       "      <td>2.000000</td>\n",
       "      <td>14.900000</td>\n",
       "    </tr>\n",
       "  </tbody>\n",
       "</table>\n",
       "</div>"
      ],
      "text/plain": [
       "       fixed acidity  volatile acidity  citric acid  residual sugar  \\\n",
       "count    1599.000000       1599.000000  1599.000000     1599.000000   \n",
       "mean        8.319637          0.527821     0.270976        2.538806   \n",
       "std         1.741096          0.179060     0.194801        1.409928   \n",
       "min         4.600000          0.120000     0.000000        0.900000   \n",
       "25%         7.100000          0.390000     0.090000        1.900000   \n",
       "50%         7.900000          0.520000     0.260000        2.200000   \n",
       "75%         9.200000          0.640000     0.420000        2.600000   \n",
       "max        15.900000          1.580000     1.000000       15.500000   \n",
       "\n",
       "         chlorides  free sulfur dioxide  total sulfur dioxide      density  \\\n",
       "count  1599.000000          1599.000000           1599.000000  1599.000000   \n",
       "mean      0.087467            15.874922             46.467792     0.996747   \n",
       "std       0.047065            10.460157             32.895324     0.001887   \n",
       "min       0.012000             1.000000              6.000000     0.990070   \n",
       "25%       0.070000             7.000000             22.000000     0.995600   \n",
       "50%       0.079000            14.000000             38.000000     0.996750   \n",
       "75%       0.090000            21.000000             62.000000     0.997835   \n",
       "max       0.611000            72.000000            289.000000     1.003690   \n",
       "\n",
       "                pH    sulphates      alcohol  \n",
       "count  1599.000000  1599.000000  1599.000000  \n",
       "mean      3.311113     0.658149    10.422983  \n",
       "std       0.154386     0.169507     1.065668  \n",
       "min       2.740000     0.330000     8.400000  \n",
       "25%       3.210000     0.550000     9.500000  \n",
       "50%       3.310000     0.620000    10.200000  \n",
       "75%       3.400000     0.730000    11.100000  \n",
       "max       4.010000     2.000000    14.900000  "
      ]
     },
     "execution_count": 102,
     "metadata": {},
     "output_type": "execute_result"
    }
   ],
   "source": [
    "df.describe()"
   ]
  },
  {
   "cell_type": "code",
   "execution_count": 103,
   "metadata": {},
   "outputs": [
    {
     "data": {
      "image/png": "[encoded data removed]",
      "text/plain": [
       "<Figure size 432x288 with 12 Axes>"
      ]
     },
     "metadata": {
      "needs_background": "light"
     },
     "output_type": "display_data"
    }
   ],
   "source": [
    "df.hist();"
   ]
  },
  {
   "cell_type": "code",
   "execution_count": 104,
   "metadata": {},
   "outputs": [],
   "source": [
    "# Train-Test Split of the data\n",
    "\n",
    "Xtrain, Xtest, ytrain, ytest = train_test_split(df,y,random_state =0)"
   ]
  },
  {
   "cell_type": "code",
   "execution_count": 105,
   "metadata": {},
   "outputs": [],
   "source": [
    "scaler = StandardScaler()\n",
    "std_Xtrain = scaler.fit_transform(Xtrain)\n",
    "std_Xtest = scaler.transform(Xtest)"
   ]
  },
  {
   "cell_type": "code",
   "execution_count": 106,
   "metadata": {},
   "outputs": [
    {
     "data": {
      "text/plain": [
       "Text(0, 0.5, 'cumulative explained variance')"
      ]
     },
     "execution_count": 106,
     "metadata": {},
     "output_type": "execute_result"
    },
    {
     "data": {
      "image/png": "[encoded data removed]",
      "text/plain": [
       "<Figure size 432x288 with 1 Axes>"
      ]
     },
     "metadata": {
      "needs_background": "light"
     },
     "output_type": "display_data"
    }
   ],
   "source": [
    "# PCA check on how many features explain the variance of the data\n",
    "pca = PCA().fit_transform(std_Xtrain) \n",
    "explained_variance = np.var(pca, axis=0)\n",
    "explained_variance_ratio = explained_variance / np.sum(explained_variance)\n",
    "plt.plot(np.cumsum(explained_variance_ratio))\n",
    "plt.xlabel('# components')\n",
    "plt.ylabel('cumulative explained variance')\n"
   ]
  },
  {
   "cell_type": "markdown",
   "metadata": {},
   "source": [
    "The cumulative explained variance shows that we might as well use all 10 available dimensions. "
   ]
  },
  {
   "cell_type": "markdown",
   "id": "86ba78d6",
   "metadata": {},
   "source": [
    "## Part 2: Models\n",
    "\n",
    "### Linear Regression\n"
   ]
  },
  {
   "cell_type": "code",
   "execution_count": 107,
   "metadata": {},
   "outputs": [
    {
     "name": "stdout",
     "output_type": "stream",
     "text": [
      "VIF of fixed acidity: 74.45226538735389\n",
      "VIF of volatile acidity: 17.060026123932275\n",
      "VIF of citric acid: 9.183495167192477\n",
      "VIF of residual sugar: 4.662992174051856\n",
      "VIF of chlorides: 6.5548772185559905\n",
      "VIF of free sulfur dioxide: 6.442682022072097\n",
      "VIF of total sulfur dioxide: 6.519698942374763\n",
      "VIF of density: 1479.2872086341736\n",
      "VIF of pH: 1070.9676853792205\n",
      "VIF of sulphates: 21.5906209233164\n",
      "VIF of alcohol: 124.39486649768077\n"
     ]
    }
   ],
   "source": [
    "# VIF Analysis\n",
    "data = df.to_numpy()\n",
    "vif = [variance_inflation_factor(data, i) for i in range(data.shape[1])]\n",
    "for i in range(11):\n",
    "    print(\"VIF of \" + df.columns[i] + \": \" + str(vif[i]))"
   ]
  },
  {
   "cell_type": "code",
   "execution_count": 108,
   "id": "5e77d623",
   "metadata": {},
   "outputs": [
    {
     "name": "stdout",
     "output_type": "stream",
     "text": [
      "                            OLS Regression Results                            \n",
      "==============================================================================\n",
      "Dep. Variable:                quality   R-squared:                       0.361\n",
      "Model:                            OLS   Adj. R-squared:                  0.356\n",
      "Method:                 Least Squares   F-statistic:                     81.35\n",
      "Date:                Sat, 27 Nov 2021   Prob (F-statistic):          1.79e-145\n",
      "Time:                        11:48:33   Log-Likelihood:                -1569.1\n",
      "No. Observations:                1599   AIC:                             3162.\n",
      "Df Residuals:                    1587   BIC:                             3227.\n",
      "Df Model:                          11                                         \n",
      "Covariance Type:            nonrobust                                         \n",
      "========================================================================================\n",
      "                           coef    std err          t      P>|t|      [0.025      0.975]\n",
      "----------------------------------------------------------------------------------------\n",
      "fixed acidity            0.0250      0.026      0.963      0.336      -0.026       0.076\n",
      "volatile acidity        -1.0836      0.121     -8.948      0.000      -1.321      -0.846\n",
      "citric acid             -0.1826      0.147     -1.240      0.215      -0.471       0.106\n",
      "residual sugar           0.0163      0.015      1.089      0.276      -0.013       0.046\n",
      "chlorides               -1.8742      0.419     -4.470      0.000      -2.697      -1.052\n",
      "free sulfur dioxide      0.0044      0.002      2.009      0.045       0.000       0.009\n",
      "total sulfur dioxide    -0.0033      0.001     -4.480      0.000      -0.005      -0.002\n",
      "density                -17.8812     21.633     -0.827      0.409     -60.314      24.551\n",
      "pH                      -0.4137      0.192     -2.159      0.031      -0.789      -0.038\n",
      "sulphates                0.9163      0.114      8.014      0.000       0.692       1.141\n",
      "alcohol                  0.2762      0.026     10.429      0.000       0.224       0.328\n",
      "constant                21.9652     21.195      1.036      0.300     -19.607      63.538\n",
      "==============================================================================\n",
      "Omnibus:                       27.376   Durbin-Watson:                   1.757\n",
      "Prob(Omnibus):                  0.000   Jarque-Bera (JB):               40.965\n",
      "Skew:                          -0.168   Prob(JB):                     1.27e-09\n",
      "Kurtosis:                       3.708   Cond. No.                     1.13e+05\n",
      "==============================================================================\n",
      "\n",
      "Notes:\n",
      "[1] Standard Errors assume that the covariance matrix of the errors is correctly specified.\n",
      "[2] The condition number is large, 1.13e+05. This might indicate that there are\n",
      "strong multicollinearity or other numerical problems.\n"
     ]
    }
   ],
   "source": [
    "df['constant'] = [1]*1599 #for linear reg\n",
    "res = sm.OLS(y,df).fit()\n",
    "print(res.summary())\n"
   ]
  },
  {
   "cell_type": "markdown",
   "id": "e9d1ac6c",
   "metadata": {},
   "source": [
    "> We can observe from VIF and P-values for coefficients fo the regression that some variables ( density, citric acid, fixed acidity, residual sugar, free sulfur dioxide) are redundant. From p-values we can not reject ${H}_{0}$ , thus their coefficient is 0 and we can remove them from the regression analysis. "
   ]
  },
  {
   "cell_type": "code",
   "execution_count": 109,
   "id": "2d23d2cb",
   "metadata": {
    "scrolled": true
   },
   "outputs": [],
   "source": [
    "#Remove variables according to P-values\n",
    "# TODO: Exaplin the addition of the new dataframe\n",
    "df_filtered = df.drop('free sulfur dioxide', axis='columns')\n",
    "df_filtered.drop('density', axis='columns', inplace=True)\n",
    "df_filtered.drop('fixed acidity', axis='columns', inplace=True)\n",
    "df_filtered.drop('citric acid', axis='columns', inplace=True)\n",
    "df_filtered.drop('residual sugar', axis='columns', inplace=True)\n"
   ]
  },
  {
   "cell_type": "code",
   "execution_count": 110,
   "metadata": {},
   "outputs": [
    {
     "name": "stdout",
     "output_type": "stream",
     "text": [
      "VIF of volatile acidity: 1.227966801646607\n",
      "VIF of chlorides: 1.3329767249777098\n",
      "VIF of total sulfur dioxide: 1.053829759009383\n",
      "VIF of pH: 1.2187072163627097\n",
      "VIF of sulphates: 1.3212374333930237\n"
     ]
    }
   ],
   "source": [
    "# VIF analysis of the dataset without the extra columns\n",
    "data = df_filtered.to_numpy()\n",
    "vif = [variance_inflation_factor(data, i) for i in range(data.shape[1])]\n",
    "for i in range(5):\n",
    "    print(\"VIF of \" + df_filtered.columns[i] + \": \" + str(vif[i]))"
   ]
  },
  {
   "cell_type": "markdown",
   "id": "23741789",
   "metadata": {},
   "source": [
    ">As we see from the new VIF values above, we can keep all the remaining variables in the regression, since their VIF is low. Thus our choice to remove some variables was effecetive."
   ]
  },
  {
   "cell_type": "markdown",
   "id": "3137b2b7",
   "metadata": {},
   "source": [
    "### Filtered Train-Test Split and Standardization\n",
    "The new train-test split is on the data without the highly correlated columns."
   ]
  },
  {
   "cell_type": "code",
   "execution_count": 111,
   "id": "8232ca30",
   "metadata": {},
   "outputs": [],
   "source": [
    "filtered_Xtrain, filtered_Xtest, filtered_ytrain, filtered_ytest = train_test_split(\n",
    "    df_filtered, y, random_state =0\n",
    ")"
   ]
  },
  {
   "cell_type": "code",
   "execution_count": 112,
   "metadata": {},
   "outputs": [],
   "source": [
    "std_filtered_Xtrain = scaler.fit_transform(filtered_Xtrain)\n",
    "std_filtered_Xtest = scaler.transform(filtered_Xtest)"
   ]
  },
  {
   "cell_type": "code",
   "execution_count": 113,
   "id": "4cbe36d5",
   "metadata": {},
   "outputs": [
    {
     "name": "stdout",
     "output_type": "stream",
     "text": [
      "Testing R^2: 0.3400315594249539\n",
      "                            OLS Regression Results                            \n",
      "==============================================================================\n",
      "Dep. Variable:                quality   R-squared:                       0.361\n",
      "Model:                            OLS   Adj. R-squared:                  0.358\n",
      "Method:                 Least Squares   F-statistic:                     112.1\n",
      "Date:                Sat, 27 Nov 2021   Prob (F-statistic):          3.33e-112\n",
      "Time:                        11:48:33   Log-Likelihood:                -1188.5\n",
      "No. Observations:                1199   AIC:                             2391.\n",
      "Df Residuals:                    1192   BIC:                             2427.\n",
      "Df Model:                           6                                         \n",
      "Covariance Type:            nonrobust                                         \n",
      "========================================================================================\n",
      "                           coef    std err          t      P>|t|      [0.025      0.975]\n",
      "----------------------------------------------------------------------------------------\n",
      "volatile acidity        -1.1704      0.114    -10.262      0.000      -1.394      -0.947\n",
      "chlorides               -1.9238      0.448     -4.291      0.000      -2.803      -1.044\n",
      "total sulfur dioxide    -0.0023      0.001     -3.985      0.000      -0.003      -0.001\n",
      "pH                      -0.4174      0.136     -3.076      0.002      -0.684      -0.151\n",
      "sulphates                0.8148      0.122      6.656      0.000       0.575       1.055\n",
      "alcohol                  0.2832      0.019     14.538      0.000       0.245       0.321\n",
      "constant                 4.4363      0.465      9.546      0.000       3.524       5.348\n",
      "==============================================================================\n",
      "Omnibus:                       14.185   Durbin-Watson:                   2.075\n",
      "Prob(Omnibus):                  0.001   Jarque-Bera (JB):               17.859\n",
      "Skew:                          -0.160   Prob(JB):                     0.000132\n",
      "Kurtosis:                       3.505   Cond. No.                     1.63e+03\n",
      "==============================================================================\n",
      "\n",
      "Notes:\n",
      "[1] Standard Errors assume that the covariance matrix of the errors is correctly specified.\n",
      "[2] The condition number is large, 1.63e+03. This might indicate that there are\n",
      "strong multicollinearity or other numerical problems.\n"
     ]
    }
   ],
   "source": [
    "res = sm.OLS(filtered_ytrain, filtered_Xtrain).fit()\n",
    "linpred=res.predict(filtered_Xtest)\n",
    "print(\"Testing R^2:\", r2_score(filtered_ytest, linpred))\n",
    "print(res.summary())"
   ]
  },
  {
   "cell_type": "markdown",
   "id": "d2403b15",
   "metadata": {},
   "source": [
    "\n",
    "\n",
    "#### *Result Anlysis*\n",
    "\n",
    "<p> From the above summray of the linear regression we can see that the p-value for each coefficinet is small, thus for each of them we can reject the null hypothesis and say that coefficients are signifficantly different from 0. </p>\n",
    "\n",
    "<p> We were using 7 variables for the regression, the magnitude of respective coefficients as well as the 95% confidence interval for them is given below. </p>\n",
    "\n",
    "|Variable| Coefficient| 95% confidence interval |\n",
    "|:-| :- | :-: |\n",
    "|Volatile Acidity|  -1.1704 | \\[-1.394 ,-0.947 \\]|\n",
    "|Chlorides|  -1.9238 | \\[-2.803 ,-1.044 \\]|\n",
    "|Total Sulfur Dioxide|  -0.0023   | \\[-0.003 ,-0.001 \\]|\n",
    "|pH| -0.4174 | \\[-0.684 , -0.151 \\]|\n",
    "|Sulphates| 0.8148 | \\[0.575 , 1.055 \\]|\n",
    "|Alcohol| 0.2832 | \\[0.245 ,  0.321 \\]|\n"
   ]
  },
  {
   "cell_type": "markdown",
   "id": "a61fcbd7",
   "metadata": {},
   "source": [
    "<p> The accuracy of the model was decent but not impressive, the  values are in the table below. </p>\n",
    "\n",
    "|Variable|$R^2$ Accuracy|\n",
    "|:-|:- |\n",
    "|Testing Accuracy| 0.34|\n",
    "|Training Accuracy| 0.36|\n",
    "\n",
    "<p> Even though linear regression can be validely applied to this dataset, intuitivelly it is easy to notice that the given task is more of a classification task rather than a regression problem. Morover the response variable only presents quality as an integer, but our regression returns float values. Thus the relativetly low accuracy of $R^2$ = 0.34 was expected. Classification approach to the problem might work better </p>"
   ]
  },
  {
   "cell_type": "markdown",
   "id": "232124f4",
   "metadata": {},
   "source": [
    "# Classification\n"
   ]
  },
  {
   "cell_type": "markdown",
   "id": "7191525d",
   "metadata": {},
   "source": [
    "### Train-Test Split for Classification\n",
    "\n",
    "Here we will be performing classification analysis for the dataset. We will make a new responce variable which will classify everthing with >7 quality index as High(1) quality wine, and everything else as low(0) quality. This leaves us with a binary Classification problem."
   ]
  },
  {
   "cell_type": "code",
   "execution_count": 114,
   "id": "1af71efa",
   "metadata": {},
   "outputs": [],
   "source": [
    "binary_y = np.zeros(len(y))\n",
    "for i in range(len(y)):\n",
    "    binary_y[i] = y[i]>=7.0\n",
    "bcl_Xtrain, bcl_Xtest, bcl_ytrain, bcl_ytest = train_test_split(\n",
    "    df, binary_y, random_state=0\n",
    ")\n"
   ]
  },
  {
   "cell_type": "markdown",
   "id": "aa2078c0",
   "metadata": {},
   "source": [
    "## Random Forest"
   ]
  },
  {
   "cell_type": "code",
   "execution_count": 115,
   "id": "f0533821",
   "metadata": {},
   "outputs": [
    {
     "name": "stdout",
     "output_type": "stream",
     "text": [
      "0.93\n",
      "              precision    recall  f1-score   support\n",
      "\n",
      "         0.0       0.95      0.98      0.96       355\n",
      "         1.0       0.76      0.56      0.64        45\n",
      "\n",
      "    accuracy                           0.93       400\n",
      "   macro avg       0.85      0.77      0.80       400\n",
      "weighted avg       0.92      0.93      0.93       400\n",
      "\n"
     ]
    }
   ],
   "source": [
    "tree_clf = RandomForestClassifier(n_estimators=100, random_state=0)\n",
    "tree_clf.fit(bcl_Xtrain, bcl_ytrain)\n",
    "ypred=tree_clf.predict(bcl_Xtest)\n",
    "print(tree_clf.score(bcl_Xtest, bcl_ytest))\n",
    "print(metrics.classification_report(bcl_ytest, ypred))"
   ]
  },
  {
   "cell_type": "code",
   "execution_count": 116,
   "id": "0fb60bae",
   "metadata": {},
   "outputs": [
    {
     "data": {
      "image/png": "[encoded data removed]",
      "text/plain": [
       "<Figure size 432x288 with 2 Axes>"
      ]
     },
     "metadata": {
      "needs_background": "light"
     },
     "output_type": "display_data"
    }
   ],
   "source": [
    "\n",
    "disp = metrics.ConfusionMatrixDisplay.from_predictions(bcl_ytest, ypred)    "
   ]
  },
  {
   "cell_type": "code",
   "execution_count": 117,
   "id": "34b94e18",
   "metadata": {},
   "outputs": [
    {
     "name": "stdout",
     "output_type": "stream",
     "text": [
      "Feature 1 importance is:0.08 95% confidence interval: [0.0,0.15] (fixed acidity)\n",
      "Feature 2 importance is:0.13 95% confidence interval: [0.02,0.23] (volatile acidity)\n",
      "Feature 3 importance is:0.09 95% confidence interval: [0.01,0.16] (citric acid)\n",
      "Feature 4 importance is:0.07 95% confidence interval: [0.01,0.12] (residual sugar)\n",
      "Feature 5 importance is:0.08 95% confidence interval: [0.02,0.13] (chlorides)\n",
      "Feature 6 importance is:0.06 95% confidence interval: [0.01,0.11] (free sulfur dioxide)\n",
      "Feature 7 importance is:0.08 95% confidence interval: [0.02,0.13] (total sulfur dioxide)\n",
      "Feature 8 importance is:0.09 95% confidence interval: [0.01,0.17] (density)\n",
      "Feature 9 importance is:0.06 95% confidence interval: [0.01,0.12] (pH)\n",
      "Feature 10 importance is:0.12 95% confidence interval: [0.03,0.21] (sulphates)\n",
      "Feature 11 importance is:0.16 95% confidence interval: [0.04,0.28] (alcohol)\n",
      "Feature 12 importance is:0.0 95% confidence interval: [0.0,0.0] (constant)\n"
     ]
    }
   ],
   "source": [
    "importances = tree_clf.feature_importances_\n",
    "std = np.std([tree.feature_importances_ for tree in tree_clf.estimators_], axis=0)\n",
    "for i in range(len(std)):\n",
    "    print(\"Feature \" +\n",
    "    str((i+1)) +\n",
    "    \" importance is:\" +\n",
    "    str(round(importances[i],2)) +\n",
    "    \" 95% confidence interval: [\" +\n",
    "    str(round(importances[i]-2*std[i],2)) +\n",
    "    \",\" +\n",
    "    str(round(importances[i]+2*std[i],2)) +\n",
    "    \"]\" +\n",
    "    \" (\" +\n",
    "    df.columns[i] +\n",
    "    \")\"\n",
    ")"
   ]
  },
  {
   "cell_type": "markdown",
   "id": "b0d019b9",
   "metadata": {},
   "source": [
    "#### Random Forest on filtered data"
   ]
  },
  {
   "cell_type": "code",
   "execution_count": 118,
   "metadata": {},
   "outputs": [],
   "source": [
    "# New test split\n",
    "\n",
    "bcl_filtered_Xtrain, bcl_filtered_Xtest, bcl_filtered_ytrain, bcl_filtered_ytest = train_test_split(\n",
    "    df_filtered, binary_y, random_state=0\n",
    ")"
   ]
  },
  {
   "cell_type": "code",
   "execution_count": 119,
   "id": "d640ed19",
   "metadata": {},
   "outputs": [
    {
     "name": "stdout",
     "output_type": "stream",
     "text": [
      "The achieved accuracy is:  0.92\n"
     ]
    }
   ],
   "source": [
    "tree_clf_1 = RandomForestClassifier(n_estimators=100, random_state=0)\n",
    "tree_clf_1.fit(bcl_filtered_Xtrain, bcl_filtered_ytrain)\n",
    "ypred = tree_clf_1.predict(bcl_filtered_Xtest)\n",
    "\n",
    "print(\n",
    "    \"The achieved accuracy is: \", \n",
    "    tree_clf_1.score(bcl_filtered_Xtest, bcl_filtered_ytest)\n",
    ")"
   ]
  },
  {
   "cell_type": "code",
   "execution_count": 120,
   "metadata": {},
   "outputs": [
    {
     "name": "stdout",
     "output_type": "stream",
     "text": [
      "              precision    recall  f1-score   support\n",
      "\n",
      "         0.0       0.94      0.97      0.96       355\n",
      "         1.0       0.69      0.53      0.60        45\n",
      "\n",
      "    accuracy                           0.92       400\n",
      "   macro avg       0.81      0.75      0.78       400\n",
      "weighted avg       0.91      0.92      0.92       400\n",
      "\n"
     ]
    }
   ],
   "source": [
    "print(metrics.classification_report(bcl_filtered_ytest, ypred))\n"
   ]
  },
  {
   "cell_type": "code",
   "execution_count": 121,
   "metadata": {},
   "outputs": [
    {
     "data": {
      "image/png": "[encoded data removed]",
      "text/plain": [
       "<Figure size 432x288 with 2 Axes>"
      ]
     },
     "metadata": {
      "needs_background": "light"
     },
     "output_type": "display_data"
    }
   ],
   "source": [
    "disp = metrics.ConfusionMatrixDisplay.from_predictions(\n",
    "    bcl_filtered_ytest, ypred\n",
    ") "
   ]
  },
  {
   "cell_type": "code",
   "execution_count": 122,
   "metadata": {},
   "outputs": [
    {
     "name": "stdout",
     "output_type": "stream",
     "text": [
      "Feature 1 importance is:0.19 95% confidence interval: [0.1,0.28] (fixed acidity)\n",
      "Feature 2 importance is:0.14 95% confidence interval: [0.06,0.21] (volatile acidity)\n",
      "Feature 3 importance is:0.14 95% confidence interval: [0.08,0.21] (citric acid)\n",
      "Feature 4 importance is:0.12 95% confidence interval: [0.07,0.18] (residual sugar)\n",
      "Feature 5 importance is:0.18 95% confidence interval: [0.12,0.25] (chlorides)\n",
      "Feature 6 importance is:0.23 95% confidence interval: [0.14,0.32] (free sulfur dioxide)\n",
      "Feature 7 importance is:0.0 95% confidence interval: [0.0,0.0] (total sulfur dioxide)\n"
     ]
    }
   ],
   "source": [
    "importances_1 = tree_clf_1.feature_importances_\n",
    "std_1 = np.std([tree.feature_importances_ for tree in tree_clf_1.estimators_], axis=0)\n",
    "\n",
    "for i in range(len(std_1)):\n",
    "    print(\"Feature \" +\n",
    "    str((i+1)) +\n",
    "    \" importance is:\" +\n",
    "    str(round(importances_1[i],2)) +\n",
    "    \" 95% confidence interval: [\" +\n",
    "    str(round(importances_1[i]-2*std_1[i],2)) +\n",
    "    \",\" +\n",
    "    str(round(importances_1[i]+2*std_1[i],2)) +\n",
    "    \"]\" +\n",
    "    \" (\"+df.columns[i] +\n",
    "    \")\"\n",
    ")"
   ]
  },
  {
   "cell_type": "markdown",
   "id": "d1dcc46f",
   "metadata": {},
   "source": [
    "## Nonbinary Classification"
   ]
  },
  {
   "cell_type": "markdown",
   "metadata": {},
   "source": [
    "### Data Train-test Split and Standardisation\n",
    "We begin by observing the distribution of the classes in our training data."
   ]
  },
  {
   "cell_type": "code",
   "execution_count": 123,
   "metadata": {},
   "outputs": [
    {
     "data": {
      "text/plain": [
       "Text(0.5, 1.0, 'Histogram of the Training Set')"
      ]
     },
     "execution_count": 123,
     "metadata": {},
     "output_type": "execute_result"
    },
    {
     "data": {
      "image/png": "[encoded data removed]",
      "text/plain": [
       "<Figure size 432x288 with 1 Axes>"
      ]
     },
     "metadata": {
      "needs_background": "light"
     },
     "output_type": "display_data"
    }
   ],
   "source": [
    "plt.hist(ytrain, bins=6)\n",
    "plt.xlabel('Wine Quality')\n",
    "plt.title('Histogram of the Training Set')"
   ]
  },
  {
   "cell_type": "markdown",
   "metadata": {},
   "source": [
    "The graph above shows that the data is very imbalanced, hence this needs to be taken into account by our models.\n",
    "\n",
    "After trying to use the *class_weight = 'balanced'* parameter for our models, the accuracy of our models diminished. We realized that working with a completely balanced dataset does not reflect the reality of our data, so we decided to use oversapling since the dataset is small, so undersampling would not work quite well. \n",
    "\n",
    "When using completely balanced oversampling of all classes, the accuracy of our models decreased and more points of classes 5 and 6 were mislabeled as other classes, but there was siginificant improvemnt in the correct identification of data from class 7.\n",
    "\n",
    "To fix that, we tried ovarsampling in a bit more catious manner, by doubling classes 3, 4, 7, and 8, which have significantly less data than classes 5 and 6. The results were the same for the Logistic Regressor and the SVM, but the Random Forest Classifier performed better with this oversampling.<br>"
   ]
  },
  {
   "cell_type": "code",
   "execution_count": 124,
   "metadata": {},
   "outputs": [
    {
     "data": {
      "text/plain": [
       "Text(0.5, 1.0, 'Histogram of the Oversampled Training Set')"
      ]
     },
     "execution_count": 124,
     "metadata": {},
     "output_type": "execute_result"
    },
    {
     "data": {
      "image/png": "[encoded data removed]",
      "text/plain": [
       "<Figure size 432x288 with 1 Axes>"
      ]
     },
     "metadata": {
      "needs_background": "light"
     },
     "output_type": "display_data"
    }
   ],
   "source": [
    "# Oversampling of the training data\n",
    "ros = RandomOverSampler(sampling_strategy={3:16, 4:80, 7:300, 8:26})\n",
    "X_train_ros, ytrain_ros = ros.fit_resample(std_filtered_Xtrain, ytrain)\n",
    "\n",
    "plt.hist(ytrain_ros, bins=6)\n",
    "plt.xlabel('Wine Quality')\n",
    "plt.title('Histogram of the Oversampled Training Set')"
   ]
  },
  {
   "cell_type": "markdown",
   "metadata": {},
   "source": [
    "### Logistic Regression Classifier\n",
    "\n",
    "Accuracy is not affected by scaling, but the number of iterations blew up.\n",
    "\n",
    "Accuracy when max_iter=1000, class_weight='balanced': 0.43\n",
    "\n",
    "Normal accuracy with max_iter = 1000: 0.635. Different solvers did not change the accuracy for this one. "
   ]
  },
  {
   "cell_type": "code",
   "execution_count": 125,
   "metadata": {},
   "outputs": [
    {
     "name": "stderr",
     "output_type": "stream",
     "text": [
      "C:\\Users\\Teodora\\Anaconda3\\lib\\site-packages\\sklearn\\base.py:439: UserWarning: X has feature names, but LogisticRegression was fitted without feature names\n",
      "  f\"X has feature names, but {self.__class__.__name__} was fitted without\"\n",
      "C:\\Users\\Teodora\\Anaconda3\\lib\\site-packages\\sklearn\\base.py:439: UserWarning: X has feature names, but LogisticRegression was fitted without feature names\n",
      "  f\"X has feature names, but {self.__class__.__name__} was fitted without\"\n"
     ]
    },
    {
     "name": "stdout",
     "output_type": "stream",
     "text": [
      "0.385\n"
     ]
    },
    {
     "data": {
      "image/png": "[encoded data removed]",
      "text/plain": [
       "<Figure size 432x288 with 2 Axes>"
      ]
     },
     "metadata": {
      "needs_background": "light"
     },
     "output_type": "display_data"
    }
   ],
   "source": [
    "# Logistic Regression without oversampling\n",
    "\n",
    "classifier = LogisticRegression(max_iter=1000, multi_class='multinomial')\n",
    "classifier.fit(std_filtered_Xtrain, ytrain)\n",
    "predicted = classifier.predict(filtered_Xtest)\n",
    "print(classifier.score(filtered_Xtest, ytest))\n",
    "disp = metrics.ConfusionMatrixDisplay.from_predictions(ytest, predicted)  \n"
   ]
  },
  {
   "cell_type": "code",
   "execution_count": 126,
   "metadata": {},
   "outputs": [
    {
     "name": "stderr",
     "output_type": "stream",
     "text": [
      "C:\\Users\\Teodora\\Anaconda3\\lib\\site-packages\\sklearn\\base.py:439: UserWarning: X has feature names, but LogisticRegression was fitted without feature names\n",
      "  f\"X has feature names, but {self.__class__.__name__} was fitted without\"\n",
      "C:\\Users\\Teodora\\Anaconda3\\lib\\site-packages\\sklearn\\base.py:439: UserWarning: X has feature names, but LogisticRegression was fitted without feature names\n",
      "  f\"X has feature names, but {self.__class__.__name__} was fitted without\"\n"
     ]
    },
    {
     "name": "stdout",
     "output_type": "stream",
     "text": [
      "0.3775\n"
     ]
    },
    {
     "data": {
      "image/png": "[encoded data removed]",
      "text/plain": [
       "<Figure size 432x288 with 2 Axes>"
      ]
     },
     "metadata": {
      "needs_background": "light"
     },
     "output_type": "display_data"
    }
   ],
   "source": [
    "# Logistic regression with oversampling\n",
    "classifier.fit(X_train_ros, ytrain_ros)\n",
    "predicted = classifier.predict(filtered_Xtest)\n",
    "print(classifier.score(filtered_Xtest, ytest))\n",
    "disp = metrics.ConfusionMatrixDisplay.from_predictions(ytest, predicted)  "
   ]
  },
  {
   "cell_type": "markdown",
   "metadata": {},
   "source": [
    "### Random Forest Classifier\n",
    "\n",
    "Default accuracy is 0.7"
   ]
  },
  {
   "cell_type": "code",
   "execution_count": 127,
   "metadata": {},
   "outputs": [
    {
     "name": "stderr",
     "output_type": "stream",
     "text": [
      "C:\\Users\\Teodora\\Anaconda3\\lib\\site-packages\\sklearn\\base.py:439: UserWarning: X has feature names, but RandomForestClassifier was fitted without feature names\n",
      "  f\"X has feature names, but {self.__class__.__name__} was fitted without\"\n",
      "C:\\Users\\Teodora\\Anaconda3\\lib\\site-packages\\sklearn\\base.py:439: UserWarning: X has feature names, but RandomForestClassifier was fitted without feature names\n",
      "  f\"X has feature names, but {self.__class__.__name__} was fitted without\"\n"
     ]
    },
    {
     "name": "stdout",
     "output_type": "stream",
     "text": [
      "0.4125\n"
     ]
    },
    {
     "data": {
      "image/png": "[encoded data removed]",
      "text/plain": [
       "<Figure size 432x288 with 2 Axes>"
      ]
     },
     "metadata": {
      "needs_background": "light"
     },
     "output_type": "display_data"
    }
   ],
   "source": [
    "#Random forest classifier without oversampling\n",
    "classifier = RandomForestClassifier(\n",
    "    n_estimators = 1000,\n",
    "    random_state = 0,\n",
    "    oob_score = True\n",
    ")\n",
    "classifier.fit(std_filtered_Xtrain, ytrain)\n",
    "predicted = classifier.predict(filtered_Xtest)\n",
    "print(classifier.score(filtered_Xtest, ytest))\n",
    "disp = metrics.ConfusionMatrixDisplay.from_predictions(ytest, predicted)  "
   ]
  },
  {
   "cell_type": "code",
   "execution_count": 128,
   "metadata": {},
   "outputs": [
    {
     "name": "stderr",
     "output_type": "stream",
     "text": [
      "C:\\Users\\Teodora\\Anaconda3\\lib\\site-packages\\sklearn\\base.py:439: UserWarning: X has feature names, but RandomForestClassifier was fitted without feature names\n",
      "  f\"X has feature names, but {self.__class__.__name__} was fitted without\"\n",
      "C:\\Users\\Teodora\\Anaconda3\\lib\\site-packages\\sklearn\\base.py:439: UserWarning: X has feature names, but RandomForestClassifier was fitted without feature names\n",
      "  f\"X has feature names, but {self.__class__.__name__} was fitted without\"\n"
     ]
    },
    {
     "name": "stdout",
     "output_type": "stream",
     "text": [
      "0.43\n"
     ]
    },
    {
     "data": {
      "image/png": "[encoded data removed]",
      "text/plain": [
       "<Figure size 432x288 with 2 Axes>"
      ]
     },
     "metadata": {
      "needs_background": "light"
     },
     "output_type": "display_data"
    }
   ],
   "source": [
    "# Random forest classifier with oversampling\n",
    "classifier.fit(X_train_ros, ytrain_ros)\n",
    "predicted = classifier.predict(filtered_Xtest)\n",
    "print(classifier.score(filtered_Xtest, ytest))\n",
    "disp = metrics.ConfusionMatrixDisplay.from_predictions(ytest, predicted)  "
   ]
  },
  {
   "cell_type": "code",
   "execution_count": 129,
   "metadata": {},
   "outputs": [
    {
     "name": "stderr",
     "output_type": "stream",
     "text": [
      "C:\\Users\\Teodora\\Anaconda3\\lib\\site-packages\\sklearn\\base.py:439: UserWarning: X has feature names, but SVC was fitted without feature names\n",
      "  f\"X has feature names, but {self.__class__.__name__} was fitted without\"\n",
      "C:\\Users\\Teodora\\Anaconda3\\lib\\site-packages\\sklearn\\base.py:439: UserWarning: X has feature names, but SVC was fitted without feature names\n",
      "  f\"X has feature names, but {self.__class__.__name__} was fitted without\"\n"
     ]
    },
    {
     "name": "stdout",
     "output_type": "stream",
     "text": [
      "0.4225\n"
     ]
    },
    {
     "data": {
      "image/png": "[encoded data removed]",
      "text/plain": [
       "<Figure size 432x288 with 2 Axes>"
      ]
     },
     "metadata": {
      "needs_background": "light"
     },
     "output_type": "display_data"
    }
   ],
   "source": [
    "# SVM without oversampling\n",
    "clf = svm.SVC(random_state=0)\n",
    "clf.fit(std_filtered_Xtrain, ytrain)\n",
    "predicted = clf.predict(filtered_Xtest)\n",
    "print(clf.score(filtered_Xtest, ytest))\n",
    "disp = metrics.ConfusionMatrixDisplay.from_predictions(ytest, predicted)  "
   ]
  },
  {
   "cell_type": "code",
   "execution_count": 130,
   "metadata": {},
   "outputs": [
    {
     "name": "stderr",
     "output_type": "stream",
     "text": [
      "C:\\Users\\Teodora\\Anaconda3\\lib\\site-packages\\sklearn\\base.py:439: UserWarning: X has feature names, but SVC was fitted without feature names\n",
      "  f\"X has feature names, but {self.__class__.__name__} was fitted without\"\n",
      "C:\\Users\\Teodora\\Anaconda3\\lib\\site-packages\\sklearn\\base.py:439: UserWarning: X has feature names, but SVC was fitted without feature names\n",
      "  f\"X has feature names, but {self.__class__.__name__} was fitted without\"\n"
     ]
    },
    {
     "name": "stdout",
     "output_type": "stream",
     "text": [
      "0.4225\n"
     ]
    },
    {
     "data": {
      "image/png": "[encoded data removed]",
      "text/plain": [
       "<Figure size 432x288 with 2 Axes>"
      ]
     },
     "metadata": {
      "needs_background": "light"
     },
     "output_type": "display_data"
    }
   ],
   "source": [
    "# SVM with oversampling\n",
    "clf.fit(X_train_ros, ytrain_ros)\n",
    "predicted = clf.predict(filtered_Xtest)\n",
    "print(clf.score(filtered_Xtest, ytest))\n",
    "disp = metrics.ConfusionMatrixDisplay.from_predictions(ytest, predicted)  "
   ]
  },
  {
   "cell_type": "code",
   "execution_count": null,
   "metadata": {},
   "outputs": [],
   "source": []
  }
 ],
 "metadata": {
  "interpreter": {
   "hash": "4079ab8418c12bbf912862ce5ed9a535a642c7aafd10c26ed6a44461b081400f"
  },
  "kernelspec": {
   "display_name": "Python 3.7.4 64-bit ('base': conda)",
   "name": "python3"
  },
  "language_info": {
   "codemirror_mode": {
    "name": "ipython",
    "version": 3
   },
   "file_extension": ".py",
   "mimetype": "text/x-python",
   "name": "python",
   "nbconvert_exporter": "python",
   "pygments_lexer": "ipython3",
   "version": "3.7.11"
  }
 },
 "nbformat": 4,
 "nbformat_minor": 5
}
