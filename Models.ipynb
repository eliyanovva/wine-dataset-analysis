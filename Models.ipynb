{
 "cells": [
  {
   "cell_type": "code",
   "execution_count": 1,
   "id": "223fed3a",
   "metadata": {},
   "outputs": [],
   "source": [
    "import numpy as np\n",
    "import pandas as pd\n",
    "import matplotlib.pyplot as plt\n",
    "from sklearn.model_selection import train_test_split\n",
    "from sklearn.ensemble import RandomForestClassifier\n",
    "from sklearn.preprocessing import StandardScaler\n",
    "from sklearn.decomposition import PCA\n",
    "from sklearn.pipeline import Pipeline\n",
    "import statsmodels.api as sm\n",
    "from sklearn.model_selection import train_test_split\n",
    "from sklearn.ensemble import RandomForestClassifier\n",
    "from sklearn.tree import DecisionTreeClassifier\n",
    "from sklearn import metrics\n",
    "from sklearn.linear_model import LinearRegression\n",
    "\n",
    "# Load data in a dataframe:\n",
    "df = pd.read_csv(\"winequality-red.csv\")\n",
    "y = df['quality']\n",
    "df.drop('quality', axis='columns', inplace=True)\n",
    "\n",
    "\n",
    "#df.drop('pH', axis='columns', inplace=True)"
   ]
  },
  {
   "cell_type": "markdown",
   "id": "ba27b224",
   "metadata": {},
   "source": [
    "# Linear Regression\n"
   ]
  },
  {
   "cell_type": "code",
   "execution_count": 2,
   "id": "a83686fa",
   "metadata": {},
   "outputs": [
    {
     "name": "stdout",
     "output_type": "stream",
     "text": [
      "                            OLS Regression Results                            \n",
      "==============================================================================\n",
      "Dep. Variable:                quality   R-squared:                       0.363\n",
      "Model:                            OLS   Adj. R-squared:                  0.357\n",
      "Method:                 Least Squares   F-statistic:                     61.56\n",
      "Date:                Fri, 26 Nov 2021   Prob (F-statistic):          2.84e-108\n",
      "Time:                        20:46:42   Log-Likelihood:                -1186.3\n",
      "No. Observations:                1199   AIC:                             2397.\n",
      "Df Residuals:                    1187   BIC:                             2458.\n",
      "Df Model:                          11                                         \n",
      "Covariance Type:            nonrobust                                         \n",
      "========================================================================================\n",
      "                           coef    std err          t      P>|t|      [0.025      0.975]\n",
      "----------------------------------------------------------------------------------------\n",
      "fixed acidity            0.0227      0.030      0.748      0.454      -0.037       0.082\n",
      "volatile acidity        -1.2093      0.138     -8.782      0.000      -1.479      -0.939\n",
      "citric acid             -0.1561      0.174     -0.899      0.369      -0.497       0.185\n",
      "residual sugar           0.0225      0.017      1.325      0.185      -0.011       0.056\n",
      "chlorides               -1.8386      0.477     -3.855      0.000      -2.774      -0.903\n",
      "free sulfur dioxide      0.0027      0.003      1.060      0.289      -0.002       0.008\n",
      "total sulfur dioxide    -0.0029      0.001     -3.518      0.000      -0.005      -0.001\n",
      "density                -19.8024     25.241     -0.785      0.433     -69.324      29.719\n",
      "pH                      -0.3839      0.223     -1.720      0.086      -0.822       0.054\n",
      "sulphates                0.8557      0.128      6.677      0.000       0.604       1.107\n",
      "alcohol                  0.2669      0.030      8.765      0.000       0.207       0.327\n",
      "constant                24.0012     24.719      0.971      0.332     -24.496      72.498\n",
      "==============================================================================\n",
      "Omnibus:                       18.848   Durbin-Watson:                   2.083\n",
      "Prob(Omnibus):                  0.000   Jarque-Bera (JB):               25.145\n",
      "Skew:                          -0.186   Prob(JB):                     3.47e-06\n",
      "Kurtosis:                       3.604   Cond. No.                     1.16e+05\n",
      "==============================================================================\n",
      "\n",
      "Notes:\n",
      "[1] Standard Errors assume that the covariance matrix of the errors is correctly specified.\n",
      "[2] The condition number is large, 1.16e+05. This might indicate that there are\n",
      "strong multicollinearity or other numerical problems.\n"
     ]
    }
   ],
   "source": [
    "dfl=pd.read_csv(\"winequality-red.csv\")\n",
    "dfl.drop('quality',axis='columns', inplace=True) #for convinience\n",
    "dfl['constant'] = [1]*1599 #for linear reg\n",
    "Xtrain,Xtest,ytrain,ytest = train_test_split(dfl,y,random_state =0)\n",
    "res = sm.OLS(ytrain,Xtrain).fit()\n",
    "print(res.summary())\n",
    "#Remove variables according to P-values\n",
    "dfl.drop('free sulfur dioxide', axis='columns', inplace=True)\n",
    "dfl.drop('density', axis='columns', inplace=True)\n",
    "dfl.drop('fixed acidity', axis='columns', inplace=True)\n",
    "dfl.drop('citric acid', axis='columns', inplace=True)\n",
    "dfl.drop('residual sugar', axis='columns', inplace=True)\n"
   ]
  },
  {
   "cell_type": "markdown",
   "id": "15ca6bdc",
   "metadata": {},
   "source": [
    "### Train-Test Split for linear"
   ]
  },
  {
   "cell_type": "code",
   "execution_count": 3,
   "id": "422b5d00",
   "metadata": {},
   "outputs": [],
   "source": [
    "Xtrain,Xtest,ytrain,ytest = train_test_split(dfl,y,random_state =0)"
   ]
  },
  {
   "cell_type": "code",
   "execution_count": 4,
   "id": "d42d37dc",
   "metadata": {
    "scrolled": true
   },
   "outputs": [
    {
     "name": "stdout",
     "output_type": "stream",
     "text": [
      "0.36081486872044355\n",
      "0.3400315594249581\n"
     ]
    }
   ],
   "source": [
    "reg = LinearRegression()\n",
    "reg.fit(Xtrain, ytrain)\n",
    "regpred=reg.predict(Xtest)\n",
    "print(reg.score(Xtrain,ytrain))\n",
    "print(reg.score(Xtest,ytest))"
   ]
  },
  {
   "cell_type": "code",
   "execution_count": 5,
   "id": "575960e5",
   "metadata": {},
   "outputs": [
    {
     "name": "stdout",
     "output_type": "stream",
     "text": [
      "                            OLS Regression Results                            \n",
      "==============================================================================\n",
      "Dep. Variable:                quality   R-squared:                       0.361\n",
      "Model:                            OLS   Adj. R-squared:                  0.358\n",
      "Method:                 Least Squares   F-statistic:                     112.1\n",
      "Date:                Fri, 26 Nov 2021   Prob (F-statistic):          3.33e-112\n",
      "Time:                        20:46:42   Log-Likelihood:                -1188.5\n",
      "No. Observations:                1199   AIC:                             2391.\n",
      "Df Residuals:                    1192   BIC:                             2427.\n",
      "Df Model:                           6                                         \n",
      "Covariance Type:            nonrobust                                         \n",
      "========================================================================================\n",
      "                           coef    std err          t      P>|t|      [0.025      0.975]\n",
      "----------------------------------------------------------------------------------------\n",
      "volatile acidity        -1.1704      0.114    -10.262      0.000      -1.394      -0.947\n",
      "chlorides               -1.9238      0.448     -4.291      0.000      -2.803      -1.044\n",
      "total sulfur dioxide    -0.0023      0.001     -3.985      0.000      -0.003      -0.001\n",
      "pH                      -0.4174      0.136     -3.076      0.002      -0.684      -0.151\n",
      "sulphates                0.8148      0.122      6.656      0.000       0.575       1.055\n",
      "alcohol                  0.2832      0.019     14.538      0.000       0.245       0.321\n",
      "constant                 4.4363      0.465      9.546      0.000       3.524       5.348\n",
      "==============================================================================\n",
      "Omnibus:                       14.185   Durbin-Watson:                   2.075\n",
      "Prob(Omnibus):                  0.001   Jarque-Bera (JB):               17.859\n",
      "Skew:                          -0.160   Prob(JB):                     0.000132\n",
      "Kurtosis:                       3.505   Cond. No.                     1.63e+03\n",
      "==============================================================================\n",
      "\n",
      "Notes:\n",
      "[1] Standard Errors assume that the covariance matrix of the errors is correctly specified.\n",
      "[2] The condition number is large, 1.63e+03. This might indicate that there are\n",
      "strong multicollinearity or other numerical problems.\n"
     ]
    }
   ],
   "source": [
    "res = sm.OLS(ytrain,Xtrain).fit()\n",
    "print(res.summary())"
   ]
  },
  {
   "cell_type": "markdown",
   "id": "ed541c80",
   "metadata": {},
   "source": [
    "# Classification"
   ]
  },
  {
   "cell_type": "markdown",
   "id": "c852fecc",
   "metadata": {},
   "source": [
    "### Train-Test Split for Classification"
   ]
  },
  {
   "cell_type": "code",
   "execution_count": 6,
   "id": "bf7c4f4b",
   "metadata": {},
   "outputs": [],
   "source": [
    "yc = np.zeros(len(y))\n",
    "for i in range(len(y)):\n",
    "    yc[i] = y[i]>=7.0\n",
    "Xtrain,Xtest,ytrain,ytest = train_test_split(df,yc,random_state =0)\n"
   ]
  },
  {
   "cell_type": "markdown",
   "id": "69e9cd7e",
   "metadata": {},
   "source": [
    "## Random Forest"
   ]
  },
  {
   "cell_type": "code",
   "execution_count": 7,
   "id": "5b5769ab",
   "metadata": {},
   "outputs": [
    {
     "name": "stdout",
     "output_type": "stream",
     "text": [
      "0.93\n",
      "              precision    recall  f1-score   support\n",
      "\n",
      "         0.0       0.95      0.97      0.96       355\n",
      "         1.0       0.72      0.62      0.67        45\n",
      "\n",
      "    accuracy                           0.93       400\n",
      "   macro avg       0.84      0.80      0.81       400\n",
      "weighted avg       0.93      0.93      0.93       400\n",
      "\n"
     ]
    }
   ],
   "source": [
    "tree_clf = RandomForestClassifier(n_estimators=100,random_state=0)\n",
    "tree_clf.fit(Xtrain,ytrain)\n",
    "ypred=tree_clf.predict(Xtest)\n",
    "print(tree_clf.score(Xtest, ytest))\n",
    "print(metrics.classification_report(ytest,ypred))"
   ]
  },
  {
   "cell_type": "code",
   "execution_count": 8,
   "id": "b17e2d95",
   "metadata": {},
   "outputs": [
    {
     "data": {
      "image/png": "[encoded data removed]",
      "text/plain": [
       "<Figure size 432x288 with 2 Axes>"
      ]
     },
     "metadata": {
      "needs_background": "light"
     },
     "output_type": "display_data"
    }
   ],
   "source": [
    "from sklearn import svm\n",
    "disp = metrics.ConfusionMatrixDisplay.from_predictions(ytest, ypred)    "
   ]
  },
  {
   "cell_type": "code",
   "execution_count": 22,
   "id": "5c979b76",
   "metadata": {},
   "outputs": [
    {
     "name": "stdout",
     "output_type": "stream",
     "text": [
      "Feature 1 importance is:0.07452421586758223 95% confidence interval: [0.007153693525761257,0.1418947382094032]\n",
      "Feature 2 importance is:0.12270838469475334 95% confidence interval: [0.023626934132932126,0.22178983525657456]\n",
      "Feature 3 importance is:0.0853978162713075 95% confidence interval: [0.010321545717240935,0.16047408682537406]\n",
      "Feature 4 importance is:0.06781533184145891 95% confidence interval: [0.0166955858365839,0.11893507784633392]\n",
      "Feature 5 importance is:0.06879783666851792 95% confidence interval: [0.008309947511472064,0.12928572582556377]\n",
      "Feature 6 importance is:0.05721522687353266 95% confidence interval: [0.01065939836335679,0.10377105538370852]\n",
      "Feature 7 importance is:0.08163315680456311 95% confidence interval: [0.025173199325655142,0.13809311428347107]\n",
      "Feature 8 importance is:0.09189405484156245 95% confidence interval: [0.010481158981026,0.1733069507020989]\n",
      "Feature 9 importance is:0.05907658098856086 95% confidence interval: [0.0036613989334164793,0.11449176304370524]\n",
      "Feature 10 importance is:0.12406427551436217 95% confidence interval: [0.030313118376267545,0.2178154326524568]\n",
      "Feature 11 importance is:0.16687311963379897 95% confidence interval: [0.06080867763217766,0.27293756163542027]\n"
     ]
    }
   ],
   "source": [
    "importances = tree_clf.feature_importances_\n",
    "std = np.std([tree.feature_importances_ for tree in tree_clf.estimators_], axis=0)\n",
    "for i in range(len(std)):\n",
    "    print(\"Feature \"+str((i+1))+\" importance is:\"+str(round(importances[i],2)) +\" 95% confidence interval: [\"+str(round(importances[i]-2*std[i],2))+\",\"+str(round(importances[i]+2*std[i],2))+\"]\")"
   ]
  },
  {
   "cell_type": "markdown",
   "id": "f10c78ad",
   "metadata": {},
   "source": [
    "## SVM"
   ]
  },
  {
   "cell_type": "code",
   "execution_count": 13,
   "id": "99281daa",
   "metadata": {
    "scrolled": false
   },
   "outputs": [
    {
     "name": "stdout",
     "output_type": "stream",
     "text": [
      "0.8875\n"
     ]
    },
    {
     "data": {
      "image/png": "[encoded data removed]",
      "text/plain": [
       "<Figure size 432x288 with 2 Axes>"
      ]
     },
     "metadata": {
      "needs_background": "light"
     },
     "output_type": "display_data"
    }
   ],
   "source": [
    "clf = svm.SVC(random_state=0)\n",
    "clf.fit(Xtrain, ytrain)\n",
    "predicted = clf.predict(Xtest)\n",
    "#print(metrics.classification_report(ytest,predicted))\n",
    "print(clf.score(Xtest, ytest))\n",
    "disp = metrics.ConfusionMatrixDisplay.from_predictions(ytest, predicted)  "
   ]
  },
  {
   "cell_type": "markdown",
   "id": "4a559337",
   "metadata": {},
   "source": []
  },
  {
   "cell_type": "code",
   "execution_count": null,
   "id": "91bc03e5",
   "metadata": {},
   "outputs": [],
   "source": []
  }
 ],
 "metadata": {
  "kernelspec": {
   "display_name": "Python 3 (ipykernel)",
   "language": "python",
   "name": "python3"
  },
  "language_info": {
   "codemirror_mode": {
    "name": "ipython",
    "version": 3
   },
   "file_extension": ".py",
   "mimetype": "text/x-python",
   "name": "python",
   "nbconvert_exporter": "python",
   "pygments_lexer": "ipython3",
   "version": "3.9.2"
  }
 },
 "nbformat": 4,
 "nbformat_minor": 5
}
