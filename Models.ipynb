{
 "cells": [
  {
   "cell_type": "code",
   "execution_count": 1,
   "id": "0dabcf69",
   "metadata": {},
   "outputs": [],
   "source": [
    "import numpy as np\n",
    "import pandas as pd\n",
    "import matplotlib.pyplot as plt\n",
    "from sklearn.model_selection import train_test_split\n",
    "from sklearn.ensemble import RandomForestClassifier\n",
    "from sklearn.preprocessing import StandardScaler\n",
    "from sklearn.decomposition import PCA\n",
    "from sklearn.pipeline import Pipeline\n",
    "import statsmodels.api as sm\n",
    "from sklearn.tree import DecisionTreeClassifier\n",
    "from sklearn import metrics\n",
    "from sklearn.linear_model import LinearRegression\n",
    "from sklearn.linear_model import LogisticRegression\n",
    "from statsmodels.stats.outliers_influence import variance_inflation_factor\n",
    "from imblearn.over_sampling import RandomOverSampler\n",
    "import math\n",
    "# Load data in a dataframe:\n",
    "df = pd.read_csv(\"winequality-red.csv\")\n",
    "y = df['quality']\n",
    "df.drop('quality', axis='columns', inplace=True)\n",
    "\n",
    "\n",
    "#df.drop('pH', axis='columns', inplace=True)"
   ]
  },
  {
   "cell_type": "markdown",
   "id": "86ba78d6",
   "metadata": {},
   "source": [
    "# Linear Regression\n"
   ]
  },
  {
   "cell_type": "code",
   "execution_count": 2,
   "id": "5e77d623",
   "metadata": {},
   "outputs": [
    {
     "name": "stdout",
     "output_type": "stream",
     "text": [
      "VIF of fixed acidity: 74.45226538735389\n",
      "VIF of volatile acidity: 17.060026123932275\n",
      "VIF of citric acid: 9.183495167192477\n",
      "VIF of residual sugar: 4.662992174051856\n",
      "VIF of chlorides: 6.5548772185559905\n",
      "VIF of free sulfur dioxide: 6.442682022072097\n",
      "VIF of total sulfur dioxide: 6.519698942374763\n",
      "VIF of density: 1479.2872086341736\n",
      "VIF of pH: 1070.9676853792205\n",
      "VIF of sulphates: 21.5906209233164\n",
      "VIF of alcohol: 124.39486649768077\n",
      "                            OLS Regression Results                            \n",
      "==============================================================================\n",
      "Dep. Variable:                quality   R-squared:                       0.361\n",
      "Model:                            OLS   Adj. R-squared:                  0.356\n",
      "Method:                 Least Squares   F-statistic:                     81.35\n",
      "Date:                Sat, 27 Nov 2021   Prob (F-statistic):          1.79e-145\n",
      "Time:                        10:33:47   Log-Likelihood:                -1569.1\n",
      "No. Observations:                1599   AIC:                             3162.\n",
      "Df Residuals:                    1587   BIC:                             3227.\n",
      "Df Model:                          11                                         \n",
      "Covariance Type:            nonrobust                                         \n",
      "========================================================================================\n",
      "                           coef    std err          t      P>|t|      [0.025      0.975]\n",
      "----------------------------------------------------------------------------------------\n",
      "fixed acidity            0.0250      0.026      0.963      0.336      -0.026       0.076\n",
      "volatile acidity        -1.0836      0.121     -8.948      0.000      -1.321      -0.846\n",
      "citric acid             -0.1826      0.147     -1.240      0.215      -0.471       0.106\n",
      "residual sugar           0.0163      0.015      1.089      0.276      -0.013       0.046\n",
      "chlorides               -1.8742      0.419     -4.470      0.000      -2.697      -1.052\n",
      "free sulfur dioxide      0.0044      0.002      2.009      0.045       0.000       0.009\n",
      "total sulfur dioxide    -0.0033      0.001     -4.480      0.000      -0.005      -0.002\n",
      "density                -17.8812     21.633     -0.827      0.409     -60.314      24.551\n",
      "pH                      -0.4137      0.192     -2.159      0.031      -0.789      -0.038\n",
      "sulphates                0.9163      0.114      8.014      0.000       0.692       1.141\n",
      "alcohol                  0.2762      0.026     10.429      0.000       0.224       0.328\n",
      "constant                21.9652     21.195      1.036      0.300     -19.607      63.538\n",
      "==============================================================================\n",
      "Omnibus:                       27.376   Durbin-Watson:                   1.757\n",
      "Prob(Omnibus):                  0.000   Jarque-Bera (JB):               40.965\n",
      "Skew:                          -0.168   Prob(JB):                     1.27e-09\n",
      "Kurtosis:                       3.708   Cond. No.                     1.13e+05\n",
      "==============================================================================\n",
      "\n",
      "Notes:\n",
      "[1] Standard Errors assume that the covariance matrix of the errors is correctly specified.\n",
      "[2] The condition number is large, 1.13e+05. This might indicate that there are\n",
      "strong multicollinearity or other numerical problems.\n"
     ]
    }
   ],
   "source": [
    "dfl=pd.read_csv(\"winequality-red.csv\")\n",
    "dfl.drop('quality',axis='columns', inplace=True) \n",
    "data = dfl.to_numpy()\n",
    "vif = [variance_inflation_factor(data, i) for i in range(data.shape[1])]\n",
    "for i in range(11):\n",
    "    print(\"VIF of \" + dfl.columns[i] + \": \" + str(vif[i]))\n",
    "dfl['constant'] = [1]*1599 #for linear reg\n",
    "res = sm.OLS(y,dfl).fit()\n",
    "print(res.summary())\n"
   ]
  },
  {
   "cell_type": "markdown",
   "id": "e9d1ac6c",
   "metadata": {},
   "source": [
    "> We can observe from VIF and P-values for coefficients fo the regression that some variables ( density, citric acid, fixed acidity, residual sugar, free sulfur dioxide) are redundant. From p-values we can not reject ${H}_{0}$ , thus their coefficient is 0 and we can remove them from the regression analysis. "
   ]
  },
  {
   "cell_type": "code",
   "execution_count": 3,
   "id": "2d23d2cb",
   "metadata": {
    "scrolled": true
   },
   "outputs": [
    {
     "name": "stdout",
     "output_type": "stream",
     "text": [
      "VIF of volatile acidity: 1.227966801646607\n",
      "VIF of chlorides: 1.3329767249777098\n",
      "VIF of total sulfur dioxide: 1.053829759009383\n",
      "VIF of pH: 1.2187072163627097\n",
      "VIF of sulphates: 1.3212374333930237\n"
     ]
    }
   ],
   "source": [
    "#Remove variables according to P-values\n",
    "dfl.drop('free sulfur dioxide', axis='columns', inplace=True)\n",
    "dfl.drop('density', axis='columns', inplace=True)\n",
    "dfl.drop('fixed acidity', axis='columns', inplace=True)\n",
    "dfl.drop('citric acid', axis='columns', inplace=True)\n",
    "dfl.drop('residual sugar', axis='columns', inplace=True)\n",
    "\n",
    "data = dfl.to_numpy()\n",
    "vif = [variance_inflation_factor(data, i) for i in range(data.shape[1])]\n",
    "for i in range(5):\n",
    "    print(\"VIF of \" + dfl.columns[i] + \": \" + str(vif[i]))"
   ]
  },
  {
   "cell_type": "markdown",
   "id": "23741789",
   "metadata": {},
   "source": [
    ">As we see from the new VIF values above, we can keep all the remaining variables in the regression, since their VIF is low. Thus our choice to remove some variables was effecetive."
   ]
  },
  {
   "cell_type": "markdown",
   "id": "3137b2b7",
   "metadata": {},
   "source": [
    "### Train-Test Split for Linear Regression"
   ]
  },
  {
   "cell_type": "code",
   "execution_count": 4,
   "id": "8232ca30",
   "metadata": {},
   "outputs": [],
   "source": [
    "Xtrain,Xtest,ytrain,ytest = train_test_split(dfl,y,random_state =0)"
   ]
  },
  {
   "cell_type": "code",
   "execution_count": 5,
   "id": "4cbe36d5",
   "metadata": {},
   "outputs": [
    {
     "name": "stdout",
     "output_type": "stream",
     "text": [
      "Testing R^2: 0.3400315594249539\n",
      "                            OLS Regression Results                            \n",
      "==============================================================================\n",
      "Dep. Variable:                quality   R-squared:                       0.361\n",
      "Model:                            OLS   Adj. R-squared:                  0.358\n",
      "Method:                 Least Squares   F-statistic:                     112.1\n",
      "Date:                Sat, 27 Nov 2021   Prob (F-statistic):          3.33e-112\n",
      "Time:                        10:33:48   Log-Likelihood:                -1188.5\n",
      "No. Observations:                1199   AIC:                             2391.\n",
      "Df Residuals:                    1192   BIC:                             2427.\n",
      "Df Model:                           6                                         \n",
      "Covariance Type:            nonrobust                                         \n",
      "========================================================================================\n",
      "                           coef    std err          t      P>|t|      [0.025      0.975]\n",
      "----------------------------------------------------------------------------------------\n",
      "volatile acidity        -1.1704      0.114    -10.262      0.000      -1.394      -0.947\n",
      "chlorides               -1.9238      0.448     -4.291      0.000      -2.803      -1.044\n",
      "total sulfur dioxide    -0.0023      0.001     -3.985      0.000      -0.003      -0.001\n",
      "pH                      -0.4174      0.136     -3.076      0.002      -0.684      -0.151\n",
      "sulphates                0.8148      0.122      6.656      0.000       0.575       1.055\n",
      "alcohol                  0.2832      0.019     14.538      0.000       0.245       0.321\n",
      "constant                 4.4363      0.465      9.546      0.000       3.524       5.348\n",
      "==============================================================================\n",
      "Omnibus:                       14.185   Durbin-Watson:                   2.075\n",
      "Prob(Omnibus):                  0.001   Jarque-Bera (JB):               17.859\n",
      "Skew:                          -0.160   Prob(JB):                     0.000132\n",
      "Kurtosis:                       3.505   Cond. No.                     1.63e+03\n",
      "==============================================================================\n",
      "\n",
      "Notes:\n",
      "[1] Standard Errors assume that the covariance matrix of the errors is correctly specified.\n",
      "[2] The condition number is large, 1.63e+03. This might indicate that there are\n",
      "strong multicollinearity or other numerical problems.\n"
     ]
    }
   ],
   "source": [
    "from sklearn.metrics import r2_score\n",
    "\n",
    "res = sm.OLS(ytrain,Xtrain).fit()\n",
    "linpred=res.predict(Xtest)\n",
    "print(\"Testing R^2:\",r2_score(ytest, linpred))\n",
    "print(res.summary())"
   ]
  },
  {
   "cell_type": "markdown",
   "id": "d2403b15",
   "metadata": {},
   "source": [
    "\n",
    "\n",
    "#### *Result Anlysis*\n",
    "\n",
    "<p> From the above summray of the linear regression we can see that the p-value for each coefficinet is small, thus for each of them we can reject the null hypothesis and say that coefficients are signifficantly different from 0. </p>\n",
    "\n",
    "<p> We were using 7 variables for the regression, the magnitude of respective coefficients as well as the 95% confidence interval for them is given below. </p>\n",
    "\n",
    "|Variable| Coefficient| 95% confidence interval |\n",
    "|:-| :- | :-: |\n",
    "|Volatile Acidity|  -1.1704 | \\[-1.394 ,-0.947 \\]|\n",
    "|Chlorides|  -1.9238 | \\[-2.803 ,-1.044 \\]|\n",
    "|Total Sulfur Dioxide|  -0.0023   | \\[-0.003 ,-0.001 \\]|\n",
    "|pH| -0.4174 | \\[-0.684 , -0.151 \\]|\n",
    "|Sulphates| 0.8148 | \\[0.575 , 1.055 \\]|\n",
    "|Alcohol| 0.2832 | \\[0.245 ,  0.321 \\]|\n"
   ]
  },
  {
   "cell_type": "markdown",
   "id": "a61fcbd7",
   "metadata": {},
   "source": [
    "<p> The accuracy of the model was decent but not impressive, the  values are in the table below. </p>\n",
    "\n",
    "|Variable|$R^2$ Accuracy|\n",
    "|:-|:- |\n",
    "|Testing Accuracy| 0.34|\n",
    "|Training Accuracy| 0.36|\n",
    "\n",
    "<p> Even though linear regression can be validely applied to this dataset, intuitivelly it is easy to notice that the given task is more of a classification task rather than a regression problem. Morover the response variable only presents quality as an integer, but our regression returns float values. Thus the relativetly low accuracy of $R^2$ = 0.34 was expected. Classification approach to the problem might work better </p>"
   ]
  },
  {
   "cell_type": "markdown",
   "id": "232124f4",
   "metadata": {},
   "source": [
    "# Classification\n"
   ]
  },
  {
   "cell_type": "markdown",
   "id": "7191525d",
   "metadata": {},
   "source": [
    "### Train-Test Split for Classification\n",
    "\n",
    "Here we will be performing classification analysis for the dataset. We will make a new responce variable which will classify everthing with >7 quality index as High(1) quality wine, and everything else as low(0) quality. This leaves us with a binary Classification problem."
   ]
  },
  {
   "cell_type": "code",
   "execution_count": 6,
   "id": "1af71efa",
   "metadata": {},
   "outputs": [],
   "source": [
    "# Add standardization? \n",
    "yc = np.zeros(len(y))\n",
    "for i in range(len(y)):\n",
    "    yc[i] = y[i]>=7.0\n",
    "Xtrain,Xtest,ytrain,ytest = train_test_split(df,yc,random_state =0)\n"
   ]
  },
  {
   "cell_type": "markdown",
   "id": "aa2078c0",
   "metadata": {},
   "source": [
    "## Random Forest"
   ]
  },
  {
   "cell_type": "code",
   "execution_count": 7,
   "id": "f0533821",
   "metadata": {},
   "outputs": [
    {
     "name": "stdout",
     "output_type": "stream",
     "text": [
      "0.93\n",
      "              precision    recall  f1-score   support\n",
      "\n",
      "         0.0       0.95      0.97      0.96       355\n",
      "         1.0       0.72      0.62      0.67        45\n",
      "\n",
      "    accuracy                           0.93       400\n",
      "   macro avg       0.84      0.80      0.81       400\n",
      "weighted avg       0.93      0.93      0.93       400\n",
      "\n"
     ]
    }
   ],
   "source": [
    "tree_clf = RandomForestClassifier(n_estimators=100,random_state=0)\n",
    "tree_clf.fit(Xtrain,ytrain)\n",
    "ypred=tree_clf.predict(Xtest)\n",
    "print(tree_clf.score(Xtest, ytest))\n",
    "print(metrics.classification_report(ytest,ypred))"
   ]
  },
  {
   "cell_type": "code",
   "execution_count": 8,
   "id": "0fb60bae",
   "metadata": {},
   "outputs": [
    {
     "data": {
      "image/png": "[encoded data removed]",
      "text/plain": [
       "<Figure size 432x288 with 2 Axes>"
      ]
     },
     "metadata": {
      "needs_background": "light"
     },
     "output_type": "display_data"
    }
   ],
   "source": [
    "from sklearn import svm\n",
    "disp = metrics.ConfusionMatrixDisplay.from_predictions(ytest, ypred)    "
   ]
  },
  {
   "cell_type": "code",
   "execution_count": 9,
   "id": "34b94e18",
   "metadata": {},
   "outputs": [
    {
     "name": "stdout",
     "output_type": "stream",
     "text": [
      "Feature 1 importance is:0.07 95% confidence interval: [0.01,0.14] (fixed acidity)\n",
      "Feature 2 importance is:0.12 95% confidence interval: [0.02,0.22] (volatile acidity)\n",
      "Feature 3 importance is:0.09 95% confidence interval: [0.01,0.16] (citric acid)\n",
      "Feature 4 importance is:0.07 95% confidence interval: [0.02,0.12] (residual sugar)\n",
      "Feature 5 importance is:0.07 95% confidence interval: [0.01,0.13] (chlorides)\n",
      "Feature 6 importance is:0.06 95% confidence interval: [0.01,0.1] (free sulfur dioxide)\n",
      "Feature 7 importance is:0.08 95% confidence interval: [0.03,0.14] (total sulfur dioxide)\n",
      "Feature 8 importance is:0.09 95% confidence interval: [0.01,0.17] (density)\n",
      "Feature 9 importance is:0.06 95% confidence interval: [0.0,0.11] (pH)\n",
      "Feature 10 importance is:0.12 95% confidence interval: [0.03,0.22] (sulphates)\n",
      "Feature 11 importance is:0.17 95% confidence interval: [0.06,0.27] (alcohol)\n"
     ]
    }
   ],
   "source": [
    "importances = tree_clf.feature_importances_\n",
    "std = np.std([tree.feature_importances_ for tree in tree_clf.estimators_], axis=0)\n",
    "for i in range(len(std)):\n",
    "    print(\"Feature \"+str((i+1))+\" importance is:\"+str(round(importances[i],2)) +\" 95% confidence interval: [\"+str(round(importances[i]-2*std[i],2))+\",\"+str(round(importances[i]+2*std[i],2))+\"]\"+\" (\"+df.columns[i]+\")\")"
   ]
  },
  {
   "cell_type": "markdown",
   "id": "b0d019b9",
   "metadata": {},
   "source": [
    "#### Random Forest on filtered data"
   ]
  },
  {
   "cell_type": "code",
   "execution_count": 10,
   "id": "d640ed19",
   "metadata": {},
   "outputs": [
    {
     "name": "stdout",
     "output_type": "stream",
     "text": [
      "0.9125\n",
      "              precision    recall  f1-score   support\n",
      "\n",
      "         0.0       0.94      0.96      0.95       355\n",
      "         1.0       0.62      0.56      0.59        45\n",
      "\n",
      "    accuracy                           0.91       400\n",
      "   macro avg       0.78      0.76      0.77       400\n",
      "weighted avg       0.91      0.91      0.91       400\n",
      "\n",
      "Feature 1 importance is:0.2 95% confidence interval: [0.1,0.29] (volatile acidity)\n",
      "Feature 2 importance is:0.13 95% confidence interval: [0.07,0.2] (chlorides)\n",
      "Feature 3 importance is:0.14 95% confidence interval: [0.07,0.21] (total sulfur dioxide)\n",
      "Feature 4 importance is:0.12 95% confidence interval: [0.05,0.19] (pH)\n",
      "Feature 5 importance is:0.18 95% confidence interval: [0.11,0.26] (sulphates)\n",
      "Feature 6 importance is:0.23 95% confidence interval: [0.14,0.32] (alcohol)\n"
     ]
    },
    {
     "data": {
      "image/png": "[encoded data removed]",
      "text/plain": [
       "<Figure size 432x288 with 2 Axes>"
      ]
     },
     "metadata": {
      "needs_background": "light"
     },
     "output_type": "display_data"
    }
   ],
   "source": [
    "df.drop('free sulfur dioxide', axis='columns', inplace=True)\n",
    "df.drop('density', axis='columns', inplace=True)\n",
    "df.drop('fixed acidity', axis='columns', inplace=True)\n",
    "df.drop('citric acid', axis='columns', inplace=True)\n",
    "df.drop('residual sugar', axis='columns', inplace=True)\n",
    "\n",
    "Xtrain,Xtest,ytrain,ytest = train_test_split(df,yc,random_state =0)\n",
    "\n",
    "tree_clf_1 = RandomForestClassifier(n_estimators=100,random_state=0)\n",
    "tree_clf_1.fit(Xtrain,ytrain)\n",
    "ypred=tree_clf_1.predict(Xtest)\n",
    "print(tree_clf_1.score(Xtest, ytest))\n",
    "print(metrics.classification_report(ytest,ypred))\n",
    "disp = metrics.ConfusionMatrixDisplay.from_predictions(ytest, ypred)  \n",
    "\n",
    "importances_1 = tree_clf_1.feature_importances_\n",
    "std_1 = np.std([tree.feature_importances_ for tree in tree_clf_1.estimators_], axis=0)\n",
    "for i in range(len(std_1)):\n",
    "    print(\"Feature \"+str((i+1))+\" importance is:\"+str(round(importances_1[i],2)) +\" 95% confidence interval: [\"+str(round(importances_1[i]-2*std_1[i],2))+\",\"+str(round(importances_1[i]+2*std_1[i],2))+\"]\"+\" (\"+df.columns[i]+\")\")"
   ]
  },
  {
   "cell_type": "markdown",
   "id": "d1dcc46f",
   "metadata": {},
   "source": [
    "## Nonbinary Classification"
   ]
  },
  {
   "cell_type": "markdown",
   "metadata": {},
   "source": [
    "### Data Train-test Split and Standardisation\n",
    "We begin by resplitting and standardising our data."
   ]
  },
  {
   "cell_type": "code",
   "execution_count": 11,
   "metadata": {},
   "outputs": [
    {
     "data": {
      "text/plain": [
       "Text(0.5, 1.0, 'Histogram of the Training Set')"
      ]
     },
     "execution_count": 11,
     "metadata": {},
     "output_type": "execute_result"
    },
    {
     "data": {
      "image/png": "[encoded data removed]",
      "text/plain": [
       "<Figure size 432x288 with 1 Axes>"
      ]
     },
     "metadata": {
      "needs_background": "light"
     },
     "output_type": "display_data"
    }
   ],
   "source": [
    "X_train,X_test,ytrain,ytest = train_test_split(df,y,random_state =0)\n",
    "scaler = StandardScaler()\n",
    "X_train = scaler.fit_transform(X_train)\n",
    "X_test = scaler.transform(X_test)\n",
    "plt.hist(ytrain, bins=6)\n",
    "plt.xlabel('Wine Quality')\n",
    "plt.title('Histogram of the Training Set')"
   ]
  },
  {
   "cell_type": "markdown",
   "metadata": {},
   "source": [
    "The graph above shows that the data is very imbalanced, hence this needs to be taken into account by our models.\n",
    "\n",
    "After trying to use the *class_weight = 'balanced'* parameter for our models, the accuracy of our models diminished. We realized that working with a completely balanced dataset does not reflect the reality of our data, so we decided to use oversapling since the dataset is small, so undersampling would not work quite well. \n",
    "\n",
    "When using completely balanced oversampling of all classes, the accuracy of our models decreased and more points of classes 5 and 6 were mislabeled as other classes, but there was siginificant improvemnt in the correct identification of data from class 7.\n",
    "\n",
    "To fix that, we tried ovarsampling in a bit more catious manner, by doubling classes 3, 4, 7, and 8, which have significantly less data than classes 5 and 6. The results were the same for the Logistic Regressor and the SVM, but the Random Forest Classifier performed better with this oversampling.<br>"
   ]
  },
  {
   "cell_type": "code",
   "execution_count": 12,
   "metadata": {},
   "outputs": [
    {
     "data": {
      "text/plain": [
       "Text(0.5, 1.0, 'Histogram of the Oversampled Training Set')"
      ]
     },
     "execution_count": 12,
     "metadata": {},
     "output_type": "execute_result"
    },
    {
     "data": {
      "image/png": "[encoded data removed]",
      "text/plain": [
       "<Figure size 432x288 with 1 Axes>"
      ]
     },
     "metadata": {
      "needs_background": "light"
     },
     "output_type": "display_data"
    }
   ],
   "source": [
    "# Oversampling of the training data\n",
    "ros = RandomOverSampler(sampling_strategy={3:16, 4:80, 7:300, 8:26})\n",
    "X_train_ros, ytrain_ros = ros.fit_resample(X_train, ytrain)\n",
    "\n",
    "plt.hist(ytrain_ros, bins=6)\n",
    "plt.xlabel('Wine Quality')\n",
    "plt.title('Histogram of the Oversampled Training Set')"
   ]
  },
  {
   "cell_type": "markdown",
   "metadata": {},
   "source": [
    "### Logistic Regression Classifier\n",
    "\n",
    "Accuracy is not affected by scaling, but the number of iterations blew up.\n",
    "\n",
    "Accuracy when max_iter=1000, class_weight='balanced': 0.43\n",
    "\n",
    "Normal accuracy with max_iter = 1000: 0.635. Different solvers did not change the accuracy for this one. "
   ]
  },
  {
   "cell_type": "code",
   "execution_count": 13,
   "metadata": {},
   "outputs": [
    {
     "name": "stdout",
     "output_type": "stream",
     "text": [
      "0.63\n"
     ]
    },
    {
     "data": {
      "image/png": "[encoded data removed]",
      "text/plain": [
       "<Figure size 432x288 with 2 Axes>"
      ]
     },
     "metadata": {
      "needs_background": "light"
     },
     "output_type": "display_data"
    }
   ],
   "source": [
    "# Logistic Regression without oversampling\n",
    "\n",
    "classifier = LogisticRegression(max_iter=1000, multi_class='multinomial')\n",
    "classifier.fit(X_train, ytrain)\n",
    "predicted = classifier.predict(X_test)\n",
    "print(classifier.score(X_test, ytest))\n",
    "disp = metrics.ConfusionMatrixDisplay.from_predictions(ytest, predicted)  \n"
   ]
  },
  {
   "cell_type": "code",
   "execution_count": 14,
   "metadata": {},
   "outputs": [
    {
     "name": "stdout",
     "output_type": "stream",
     "text": [
      "0.585\n"
     ]
    },
    {
     "data": {
      "image/png": "[encoded data removed]",
      "text/plain": [
       "<Figure size 432x288 with 2 Axes>"
      ]
     },
     "metadata": {
      "needs_background": "light"
     },
     "output_type": "display_data"
    }
   ],
   "source": [
    "# Logistic regression with oversampling\n",
    "classifier.fit(X_train_ros, ytrain_ros)\n",
    "predicted = classifier.predict(X_test)\n",
    "print(classifier.score(X_test, ytest))\n",
    "disp = metrics.ConfusionMatrixDisplay.from_predictions(ytest, predicted)  "
   ]
  },
  {
   "cell_type": "markdown",
   "metadata": {},
   "source": [
    "### Random Forest Classifier\n",
    "\n",
    "Default accuracy is 0.7"
   ]
  },
  {
   "cell_type": "code",
   "execution_count": 15,
   "metadata": {},
   "outputs": [
    {
     "name": "stdout",
     "output_type": "stream",
     "text": [
      "0.71\n"
     ]
    },
    {
     "data": {
      "image/png": "[encoded data removed]",
      "text/plain": [
       "<Figure size 432x288 with 2 Axes>"
      ]
     },
     "metadata": {
      "needs_background": "light"
     },
     "output_type": "display_data"
    }
   ],
   "source": [
    "#Random forest classifier without oversampling\n",
    "classifier = RandomForestClassifier(\n",
    "    n_estimators = 1000,\n",
    "    random_state = 0,\n",
    "    oob_score = True\n",
    ")\n",
    "classifier.fit(X_train, ytrain)\n",
    "predicted = classifier.predict(X_test)\n",
    "print(classifier.score(X_test, ytest))\n",
    "disp = metrics.ConfusionMatrixDisplay.from_predictions(ytest, predicted)  "
   ]
  },
  {
   "cell_type": "code",
   "execution_count": 16,
   "metadata": {},
   "outputs": [
    {
     "name": "stdout",
     "output_type": "stream",
     "text": [
      "0.6975\n"
     ]
    },
    {
     "data": {
      "image/png": "[encoded data removed]",
      "text/plain": [
       "<Figure size 432x288 with 2 Axes>"
      ]
     },
     "metadata": {
      "needs_background": "light"
     },
     "output_type": "display_data"
    }
   ],
   "source": [
    "# Random forest classifier with oversampling\n",
    "classifier.fit(X_train_ros, ytrain_ros)\n",
    "predicted = classifier.predict(X_test)\n",
    "print(classifier.score(X_test, ytest))\n",
    "disp = metrics.ConfusionMatrixDisplay.from_predictions(ytest, predicted)  "
   ]
  },
  {
   "cell_type": "code",
   "execution_count": 18,
   "metadata": {},
   "outputs": [
    {
     "name": "stdout",
     "output_type": "stream",
     "text": [
      "0.635\n"
     ]
    },
    {
     "data": {
      "image/png": "[encoded data removed]",
      "text/plain": [
       "<Figure size 432x288 with 2 Axes>"
      ]
     },
     "metadata": {
      "needs_background": "light"
     },
     "output_type": "display_data"
    }
   ],
   "source": [
    "# SVM without oversampling\n",
    "clf = svm.SVC(random_state=0)\n",
    "clf.fit(X_train, ytrain)\n",
    "predicted = clf.predict(X_test)\n",
    "print(clf.score(X_test, ytest))\n",
    "disp = metrics.ConfusionMatrixDisplay.from_predictions(ytest, predicted)  "
   ]
  },
  {
   "cell_type": "code",
   "execution_count": 19,
   "metadata": {},
   "outputs": [
    {
     "name": "stdout",
     "output_type": "stream",
     "text": [
      "0.5775\n"
     ]
    },
    {
     "data": {
      "image/png": "[encoded data removed]",
      "text/plain": [
       "<Figure size 432x288 with 2 Axes>"
      ]
     },
     "metadata": {
      "needs_background": "light"
     },
     "output_type": "display_data"
    }
   ],
   "source": [
    "# SVM with oversampling\n",
    "clf.fit(X_train_ros, ytrain_ros)\n",
    "predicted = clf.predict(X_test)\n",
    "print(clf.score(X_test, ytest))\n",
    "disp = metrics.ConfusionMatrixDisplay.from_predictions(ytest, predicted)  "
   ]
  },
  {
   "cell_type": "code",
   "execution_count": null,
   "metadata": {},
   "outputs": [],
   "source": []
  }
 ],
 "metadata": {
  "interpreter": {
   "hash": "4079ab8418c12bbf912862ce5ed9a535a642c7aafd10c26ed6a44461b081400f"
  },
  "kernelspec": {
   "display_name": "Python 3.7.4 64-bit ('base': conda)",
   "name": "python3"
  },
  "language_info": {
   "codemirror_mode": {
    "name": "ipython",
    "version": 3
   },
   "file_extension": ".py",
   "mimetype": "text/x-python",
   "name": "python",
   "nbconvert_exporter": "python",
   "pygments_lexer": "ipython3",
   "version": "3.7.11"
  }
 },
 "nbformat": 4,
 "nbformat_minor": 5
}
